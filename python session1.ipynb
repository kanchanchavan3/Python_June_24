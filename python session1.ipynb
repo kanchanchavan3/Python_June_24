{
 "cells": [
  {
   "cell_type": "code",
   "execution_count": null,
   "id": "e67ec09a-c246-4ba9-87fe-4d0b4c6f8727",
   "metadata": {},
   "outputs": [],
   "source": [
    "a=10\n",
    "b=20\n",
    "c=a+b\n",
    "c"
   ]
  },
  {
   "cell_type": "markdown",
   "id": "84050559-d1cf-45ea-8a09-cb89744c2c92",
   "metadata": {},
   "source": [
    "a=100\n",
    "b=200\n",
    "c=a+b\n",
    "c"
   ]
  },
  {
   "cell_type": "code",
   "execution_count": null,
   "id": "9a1adef9-6283-49cd-a420-4715b3f8371a",
   "metadata": {},
   "outputs": [],
   "source": [
    "a=200\n",
    "b=300\n",
    "c=a+b\n",
    "c\n"
   ]
  },
  {
   "cell_type": "code",
   "execution_count": null,
   "id": "ec664748-c14e-43d9-8657-6f42818a1ac7",
   "metadata": {},
   "outputs": [],
   "source": [
    "n1=10\n",
    "n2=20\n",
    "n3=n1+n2\n",
    "n3\n"
   ]
  },
  {
   "cell_type": "code",
   "execution_count": null,
   "id": "2b149b35-ce8a-4d13-916a-ee003ebf041c",
   "metadata": {},
   "outputs": [],
   "source": [
    "for i in range(1000000):\n",
    "    print(i)\n",
    "    \n",
    "    "
   ]
  },
  {
   "cell_type": "markdown",
   "id": "fd4ed622-4e8f-4ca7-b863-3b602cb84aa7",
   "metadata": {},
   "source": [
    "i am learning python today\n"
   ]
  },
  {
   "cell_type": "markdown",
   "id": "cb2963b5-babb-47a5-aae4-632c9fccac91",
   "metadata": {},
   "source": [
    "# python"
   ]
  },
  {
   "cell_type": "markdown",
   "id": "86140e0a-a2c2-4a8f-b302-a6f4efae71a5",
   "metadata": {},
   "source": [
    "# python\n",
    "## python\n",
    "### python"
   ]
  },
  {
   "cell_type": "code",
   "execution_count": null,
   "id": "f89099a6-bbd9-46ff-81c6-069cdb309f56",
   "metadata": {},
   "outputs": [],
   "source": []
  }
 ],
 "metadata": {
  "kernelspec": {
   "display_name": "Python 3 (ipykernel)",
   "language": "python",
   "name": "python3"
  },
  "language_info": {
   "codemirror_mode": {
    "name": "ipython",
    "version": 3
   },
   "file_extension": ".py",
   "mimetype": "text/x-python",
   "name": "python",
   "nbconvert_exporter": "python",
   "pygments_lexer": "ipython3",
   "version": "3.11.7"
  }
 },
 "nbformat": 4,
 "nbformat_minor": 5
}
