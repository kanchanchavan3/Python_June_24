{
 "cells": [
  {
   "cell_type": "code",
   "execution_count": 4,
   "id": "415d0f82-57d8-4484-8a4d-00fde802f7f9",
   "metadata": {},
   "outputs": [
    {
     "name": "stdout",
     "output_type": "stream",
     "text": [
      "3\n"
     ]
    }
   ],
   "source": [
    "#Q1)wap ask the user count how many 'a' are present in a given string\n",
    "#str1='hai naresh how are you'\n",
    "\n",
    "\n",
    "count=0\n",
    "str1='hai naresh how are you'\n",
    "for i in (str1):\n",
    "    if i=='a':\n",
    "        count=count+1\n",
    "\n",
    "print(count)\n",
    "        "
   ]
  },
  {
   "cell_type": "code",
   "execution_count": 8,
   "id": "f13512fe-2534-4870-9c8e-49855a0f5769",
   "metadata": {},
   "outputs": [
    {
     "name": "stdout",
     "output_type": "stream",
     "text": [
      "the count is: 9\n"
     ]
    }
   ],
   "source": [
    "#Q2) wap ask the user how many vowels are there in string\n",
    "#str1='hai naresh how are you'\n",
    "\n",
    "count=0\n",
    "str1='hai naresh how are you'\n",
    "str2='aeiou'\n",
    "for i in (str1):\n",
    "    if i in 'aeiou':\n",
    "        count=count+1\n",
    "\n",
    "print(\"the count is:\",count)"
   ]
  },
  {
   "cell_type": "code",
   "execution_count": null,
   "id": "dc882d87-3101-4a7b-b509-0818d9dee7db",
   "metadata": {},
   "outputs": [],
   "source": [
    "#Q3) home work qn\n",
    "#str1='hai naresh how are you'\n",
    "#repeated vowels are there\n",
    "#we dont want repeated vowels\n",
    "#count the vowels avoid the repeatation unique vowels\n",
    "\n",
    "\n"
   ]
  },
  {
   "cell_type": "code",
   "execution_count": null,
   "id": "8b9cf7a9-bc61-4e84-976d-7759842ab742",
   "metadata": {},
   "outputs": [],
   "source": [
    "######################### Python divided into 3 parts ##################################\n",
    "\n",
    "- - - - Basics\n",
    "\n",
    "1) Variables\n",
    "2) Data Types\n",
    "3) Type Conversion\n",
    "4) Eval input\n",
    "5) Packages\n",
    "6) conditional statements\n",
    "7) Try-Except\n",
    "8) Functions\n",
    "9) For\n",
    "10) while (you did this)\n",
    "\n",
    "\n",
    "\n",
    "----------- Intermediate parts\n",
    "\n",
    "11) Strings\n",
    "12) Lists\n",
    "13) Dictionary\n",
    "14) tuples\n",
    "15) sets\n",
    "16) Lambda functions\n",
    "17) file handling session\n",
    "\n",
    "--------Advanced\n",
    "18) OOPS"
   ]
  },
  {
   "cell_type": "code",
   "execution_count": null,
   "id": "63126292-8d41-4cb8-b50b-5f67bb688a99",
   "metadata": {},
   "outputs": [],
   "source": [
    "================================= PART 1 ====================================================\n",
    "\n",
    "- Initialization\n",
    "\n",
    "- type\n",
    "\n",
    "- len\n",
    "\n",
    "- max\n",
    "\n",
    "- min\n",
    "\n",
    "- sorted\n",
    "\n",
    "- reversed\n",
    "\n",
    "- in\n",
    "\n",
    "- for loop using in\n",
    "\n",
    "- index\n",
    "\n",
    "- for loop using index\n",
    "\n",
    "- mutable\n",
    "\n",
    "- concatenation\n",
    "\n",
    "======================================= PART 2 =================================================\n",
    "\n",
    "#Methods\n"
   ]
  },
  {
   "cell_type": "markdown",
   "id": "c9c84f19-a908-4fe7-921d-dca4b8196242",
   "metadata": {},
   "source": [
    "**Initialization**"
   ]
  },
  {
   "cell_type": "code",
   "execution_count": 1,
   "id": "2f9f52f6-683c-4e0d-b191-79ee33172601",
   "metadata": {},
   "outputs": [
    {
     "data": {
      "text/plain": [
       "'python'"
      ]
     },
     "execution_count": 1,
     "metadata": {},
     "output_type": "execute_result"
    }
   ],
   "source": [
    "str1='python'\n",
    "str1"
   ]
  },
  {
   "cell_type": "code",
   "execution_count": 2,
   "id": "74d58ace-831a-4610-bff9-c137e481221b",
   "metadata": {},
   "outputs": [
    {
     "data": {
      "text/plain": [
       "'python'"
      ]
     },
     "execution_count": 2,
     "metadata": {},
     "output_type": "execute_result"
    }
   ],
   "source": [
    "str2=\"python\"\n",
    "str2"
   ]
  },
  {
   "cell_type": "code",
   "execution_count": 3,
   "id": "59dd358d-51f7-4b99-ba7d-6874aa8d45f1",
   "metadata": {},
   "outputs": [
    {
     "name": "stdout",
     "output_type": "stream",
     "text": [
      "python\n"
     ]
    }
   ],
   "source": [
    "print(str1) # do not confuse im not seeing the quotes\n"
   ]
  },
  {
   "cell_type": "markdown",
   "id": "28e6b569-4d70-4481-8633-88fe03341f8f",
   "metadata": {},
   "source": [
    "**NOTE**\n",
    "\n",
    "- if we mentioned single quotes or double quotes by default python provides in single quotes only.\n",
    "\n",
    "- if we print thr strings, we will answer with out quotes."
   ]
  },
  {
   "cell_type": "markdown",
   "id": "96ee766b-dd14-4b63-b410-2c3f14e98da2",
   "metadata": {},
   "source": [
    "**Triple Quotes**"
   ]
  },
  {
   "cell_type": "code",
   "execution_count": 5,
   "id": "47056722-1a51-4edd-9f56-9d609b85fb4c",
   "metadata": {},
   "outputs": [
    {
     "data": {
      "text/plain": [
       "'hi, how are you\\n        im good'"
      ]
     },
     "execution_count": 5,
     "metadata": {},
     "output_type": "execute_result"
    }
   ],
   "source": [
    "str3=\"\"\"hi, how are you\n",
    "        im good\"\"\"\n",
    "str3"
   ]
  },
  {
   "cell_type": "code",
   "execution_count": 6,
   "id": "f46892f2-b189-447d-a29e-fee4211d27f9",
   "metadata": {},
   "outputs": [
    {
     "name": "stdout",
     "output_type": "stream",
     "text": [
      "hi, how are you\n",
      "        im good\n"
     ]
    }
   ],
   "source": [
    "print(str3)"
   ]
  },
  {
   "cell_type": "markdown",
   "id": "b346d6d7-c5c1-4b72-a9cc-f6d4bdbf7f1f",
   "metadata": {},
   "source": [
    "**NOTE**\n",
    "\n",
    "- if we mentioned single quotes or double quotes by default python provides in single quotes only.\n",
    "\n",
    "- if we print thr strings, we will answer with out quotes.\n",
    "\n",
    "- triple quotes are using for doc string.\n",
    "\n",
    "- in order to convey the information about coding part we will use doc string.\n",
    "\n",
    "- anything inside the single or double quotes is considered as string in python."
   ]
  },
  {
   "cell_type": "markdown",
   "id": "f944eb39-2c51-409a-8841-fdf1384f8cef",
   "metadata": {},
   "source": [
    "**TYPE**"
   ]
  },
  {
   "cell_type": "code",
   "execution_count": 7,
   "id": "64a17fa6-e4b6-4701-b179-ddc4b0166d31",
   "metadata": {},
   "outputs": [
    {
     "data": {
      "text/plain": [
       "str"
      ]
     },
     "execution_count": 7,
     "metadata": {},
     "output_type": "execute_result"
    }
   ],
   "source": [
    "type(str1) #type is string time"
   ]
  },
  {
   "cell_type": "code",
   "execution_count": null,
   "id": "492e1c58-3ca1-4d22-ab33-0ca687bead65",
   "metadata": {},
   "outputs": [],
   "source": [
    "str4='10'   # integer value in the form of string\n",
    "str5='10.5' # float value in the form of string\n",
    "str6='123abc' #alpha numeric in the form of string.\n",
    "str7='True' #Boolean in the form of string\n",
    "str8='sinx'\n",
    "\n",
    "#all in quotes means in red color: strings"
   ]
  },
  {
   "cell_type": "markdown",
   "id": "5f99265e-77ad-4c97-957f-2bc6ce04ec65",
   "metadata": {},
   "source": [
    "**Len**"
   ]
  },
  {
   "cell_type": "code",
   "execution_count": 8,
   "id": "a693b7b7-8e89-4473-a183-01e9d4d18442",
   "metadata": {},
   "outputs": [
    {
     "data": {
      "text/plain": [
       "6"
      ]
     },
     "execution_count": 8,
     "metadata": {},
     "output_type": "execute_result"
    }
   ],
   "source": [
    "str1='python'\n",
    "len(str1)"
   ]
  },
  {
   "cell_type": "markdown",
   "id": "48a4ede3-5f04-4d47-b1c0-fc64b0977b50",
   "metadata": {},
   "source": [
    "**Max and Min**"
   ]
  },
  {
   "cell_type": "code",
   "execution_count": 9,
   "id": "5e8d91c3-dbb4-4d4a-a45f-69b7b6b43889",
   "metadata": {},
   "outputs": [
    {
     "data": {
      "text/plain": [
       "'y'"
      ]
     },
     "execution_count": 9,
     "metadata": {},
     "output_type": "execute_result"
    }
   ],
   "source": [
    "str1='python'\n",
    "max(str1)"
   ]
  },
  {
   "cell_type": "code",
   "execution_count": 10,
   "id": "4183fb3a-2c81-4ee3-ad48-f1948352569b",
   "metadata": {},
   "outputs": [
    {
     "data": {
      "text/plain": [
       "(112, 121, 116, 104, 111, 110)"
      ]
     },
     "execution_count": 10,
     "metadata": {},
     "output_type": "execute_result"
    }
   ],
   "source": [
    "ord('p'),ord('y'),ord('t'),ord('h'),ord('o'),ord('n')"
   ]
  },
  {
   "cell_type": "code",
   "execution_count": 11,
   "id": "58deb8f7-ef19-4acf-af9a-782ee84467d3",
   "metadata": {},
   "outputs": [
    {
     "data": {
      "text/plain": [
       "'h'"
      ]
     },
     "execution_count": 11,
     "metadata": {},
     "output_type": "execute_result"
    }
   ],
   "source": [
    "str1='python'\n",
    "min(str1)"
   ]
  },
  {
   "cell_type": "markdown",
   "id": "fec83e51-cbbd-426a-850a-76b63f5c5b57",
   "metadata": {},
   "source": [
    "**Keyword VS Methods**"
   ]
  },
  {
   "cell_type": "code",
   "execution_count": 12,
   "id": "90fa764b-6c32-49ce-9b95-2d118ad9f8eb",
   "metadata": {},
   "outputs": [
    {
     "ename": "SyntaxError",
     "evalue": "invalid syntax (3564486006.py, line 1)",
     "output_type": "error",
     "traceback": [
      "\u001b[1;36m  Cell \u001b[1;32mIn[12], line 1\u001b[1;36m\u001b[0m\n\u001b[1;33m    type(<>)\u001b[0m\n\u001b[1;37m         ^\u001b[0m\n\u001b[1;31mSyntaxError\u001b[0m\u001b[1;31m:\u001b[0m invalid syntax\n"
     ]
    }
   ],
   "source": [
    "type(<>)\n",
    "print(<>)\n",
    "len(<>)\n",
    "max(<>)\n",
    "min(<>)\n",
    "eval(<>)\n",
    "input(<>)\n",
    "sum(<>)"
   ]
  },
  {
   "cell_type": "code",
   "execution_count": null,
   "id": "81dc5d81-5659-4629-b647-c7b9e5dcb57d",
   "metadata": {},
   "outputs": [],
   "source": [
    "- in order to use method we need to call package.\n",
    "\n",
    "\n",
    "import random\n",
    "random.randint()\n",
    "\n",
    "import math\n",
    "math.sqrt()\n",
    "\n",
    "\n",
    "import time\n",
    "time.sleep()\n"
   ]
  },
  {
   "cell_type": "code",
   "execution_count": 13,
   "id": "e78af388-3c55-4904-9ee9-45c9fcc39dab",
   "metadata": {},
   "outputs": [
    {
     "data": {
      "text/plain": [
       "'y'"
      ]
     },
     "execution_count": 13,
     "metadata": {},
     "output_type": "execute_result"
    }
   ],
   "source": [
    "str1='python123'\n",
    "max(str1)"
   ]
  },
  {
   "cell_type": "markdown",
   "id": "e9cbf217-fca8-40e3-943a-922142465a27",
   "metadata": {},
   "source": [
    "**Sum**"
   ]
  },
  {
   "cell_type": "code",
   "execution_count": 14,
   "id": "0c0fff2a-1a3a-4f76-839e-6777d186892b",
   "metadata": {},
   "outputs": [
    {
     "ename": "TypeError",
     "evalue": "unsupported operand type(s) for +: 'int' and 'str'",
     "output_type": "error",
     "traceback": [
      "\u001b[1;31m---------------------------------------------------------------------------\u001b[0m",
      "\u001b[1;31mTypeError\u001b[0m                                 Traceback (most recent call last)",
      "Cell \u001b[1;32mIn[14], line 2\u001b[0m\n\u001b[0;32m      1\u001b[0m str1\u001b[38;5;241m=\u001b[39m\u001b[38;5;124m'\u001b[39m\u001b[38;5;124mpython\u001b[39m\u001b[38;5;124m'\u001b[39m\n\u001b[1;32m----> 2\u001b[0m \u001b[38;5;28msum\u001b[39m(str1)\n",
      "\u001b[1;31mTypeError\u001b[0m: unsupported operand type(s) for +: 'int' and 'str'"
     ]
    }
   ],
   "source": [
    "str1='python'\n",
    "sum(str1)"
   ]
  },
  {
   "cell_type": "code",
   "execution_count": 15,
   "id": "9ff137eb-f35f-4a11-a5a0-483043b1e280",
   "metadata": {},
   "outputs": [
    {
     "data": {
      "text/plain": [
       "'py'"
      ]
     },
     "execution_count": 15,
     "metadata": {},
     "output_type": "execute_result"
    }
   ],
   "source": [
    "'p'+'y'"
   ]
  },
  {
   "cell_type": "code",
   "execution_count": 16,
   "id": "da734f91-3291-4f49-9391-7c71c432d607",
   "metadata": {},
   "outputs": [
    {
     "data": {
      "text/plain": [
       "6"
      ]
     },
     "execution_count": 16,
     "metadata": {},
     "output_type": "execute_result"
    }
   ],
   "source": [
    "sum([1,2,3])"
   ]
  },
  {
   "cell_type": "markdown",
   "id": "1e71995c-4ec9-41ec-a410-046f249945b1",
   "metadata": {},
   "source": [
    "**Sorted**"
   ]
  },
  {
   "cell_type": "code",
   "execution_count": null,
   "id": "49854fba-264f-42e7-a4fc-8cacfc420a4c",
   "metadata": {},
   "outputs": [],
   "source": [
    "len('python')\n",
    "max('python')\n",
    "print('python')\n",
    "min('python')\n",
    "max('python')"
   ]
  },
  {
   "cell_type": "code",
   "execution_count": 17,
   "id": "faedff53-56f0-4d5c-abee-7086709a9622",
   "metadata": {},
   "outputs": [
    {
     "data": {
      "text/plain": [
       "['h', 'n', 'o', 'p', 't', 'y']"
      ]
     },
     "execution_count": 17,
     "metadata": {},
     "output_type": "execute_result"
    }
   ],
   "source": [
    "sorted('python')"
   ]
  },
  {
   "cell_type": "markdown",
   "id": "0ddcf994-2d2a-4c1e-afe2-d042e0c80a39",
   "metadata": {},
   "source": [
    "- sorted gives ascending order based on ASCII numbers\n",
    "\n",
    "- sorted is kind of a function\n",
    "\n",
    "- Every function we have arguments\n",
    "\n",
    "- in that one default argument is **reverse=False**\n",
    "\n",
    "- by default sorted output gives **ascending order**\n",
    "\n",
    "- we can change the order , by providing **reverse=True**\n",
    "\n",
    "- **if we do not mention, it will give the default answer**\n",
    "\n"
   ]
  },
  {
   "cell_type": "code",
   "execution_count": 18,
   "id": "f0f9d1b9-1b7a-43fa-addd-0aa0b9cab9e0",
   "metadata": {},
   "outputs": [
    {
     "data": {
      "text/plain": [
       "['y', 't', 'p', 'o', 'n', 'h']"
      ]
     },
     "execution_count": 18,
     "metadata": {},
     "output_type": "execute_result"
    }
   ],
   "source": [
    "sorted('python', reverse=True)"
   ]
  },
  {
   "cell_type": "code",
   "execution_count": 19,
   "id": "27dfa1e7-2139-460e-ad62-caf896419334",
   "metadata": {},
   "outputs": [
    {
     "data": {
      "text/plain": [
       "0j"
      ]
     },
     "execution_count": 19,
     "metadata": {},
     "output_type": "execute_result"
    }
   ],
   "source": [
    "complex()  #0+0j"
   ]
  },
  {
   "cell_type": "code",
   "execution_count": 20,
   "id": "57d8bd68-83bc-4167-ba4c-69c38f268919",
   "metadata": {},
   "outputs": [
    {
     "data": {
      "text/plain": [
       "(10+20j)"
      ]
     },
     "execution_count": 20,
     "metadata": {},
     "output_type": "execute_result"
    }
   ],
   "source": [
    "complex(10,20)"
   ]
  },
  {
   "cell_type": "markdown",
   "id": "13c5dff4-8905-4d4c-9ef0-e69b24cfc74d",
   "metadata": {},
   "source": [
    "**LEFT REMAINING TOPICS YOU TAKE THE CLASSROOM NOTES**"
   ]
  },
  {
   "cell_type": "code",
   "execution_count": 25,
   "id": "7996eff7-938f-4e70-b423-01866b7898d9",
   "metadata": {},
   "outputs": [
    {
     "name": "stdout",
     "output_type": "stream",
     "text": [
      "3\n"
     ]
    }
   ],
   "source": [
    "#Q1) wap ask the user count how many 'a' are present in a given string\n",
    "# str1='hai naresh how are you'\n",
    "\n",
    "# Idea:counter wrapper\n",
    "# step1:count=0\n",
    "#step2: using for loop in operator iterate through given string\n",
    "#step3:apply the if condition, whenever the letter equal to 'a'\n",
    "#step4:count=count+1\n",
    "\n",
    "str1='hai naresh how are you'\n",
    "count=0\n",
    "for i in str1:\n",
    "    if i=='a':\n",
    "        count=count+1\n",
    "    \n",
    "print(count)"
   ]
  },
  {
   "cell_type": "code",
   "execution_count": 27,
   "id": "03bf284c-6edd-44bc-b95e-453500389138",
   "metadata": {},
   "outputs": [
    {
     "name": "stdout",
     "output_type": "stream",
     "text": [
      "9\n"
     ]
    }
   ],
   "source": [
    "#Q2)wap ask the user how many vowel are there in a given string\n",
    "# str1='hai naresh how are you'\n",
    "\n",
    "str1='hai naresh how are you'\n",
    "str2='aeiou'\n",
    "count=0\n",
    "for i in str1:\n",
    "    if i in 'aeiou':\n",
    "        count=count+1\n",
    "\n",
    "print(count)\n"
   ]
  },
  {
   "cell_type": "code",
   "execution_count": 34,
   "id": "1b85fbfd-8844-4d4a-abf6-2e639fda35ff",
   "metadata": {},
   "outputs": [
    {
     "name": "stdout",
     "output_type": "stream",
     "text": [
      "count of unique vowels: 5\n",
      "unique vowels:  aieou\n"
     ]
    }
   ],
   "source": [
    "# Q3) Home work qn\n",
    "# str1='hai naresh how are you'\n",
    "# Repetaed vowels are there\n",
    "# We dont want repetaed vowels\n",
    "# Count the vowels avoid the repeatition: Unique vowels\n",
    "# Step-1: Count=0\n",
    "# Step-2: take one more empty string: ex= s2=''\n",
    "s2=''\n",
    "# Step-3: using for loop in operator iterate through given string\n",
    "# step-4: condition-1: That letter shoud not avaialble in s2\n",
    "# step-5 condition-2: vowel check condition\n",
    "# step-6 count=count+1\n",
    "# step-7: update the s2= s2=s2+<letter>\n",
    "\n",
    "str1='hai naresh how are you'\n",
    "count=0\n",
    "s2=' '\n",
    "vowels='aeiou'\n",
    "for i in str1:\n",
    "    if i in vowels and i not in s2:\n",
    "        count=count+1\n",
    "        s2=s2+i\n",
    "        \n",
    "\n",
    "print(\"count of unique vowels:\",count)\n",
    "print(\"unique vowels:\",s2)"
   ]
  },
  {
   "cell_type": "markdown",
   "id": "b7764eeb-205b-4aa4-91ae-0f14776d9a74",
   "metadata": {},
   "source": [
    "**muttable-immutable**\n",
    "\n",
    "- mutable: can change\n",
    "\n",
    "- we can change using indexing\n",
    "\n",
    "- immutable: cannot change\n",
    "\n",
    "- we can not change using indexing\n"
   ]
  },
  {
   "cell_type": "code",
   "execution_count": 2,
   "id": "ac5314d5-9b6c-49b7-bfe3-7fe785bdea37",
   "metadata": {},
   "outputs": [
    {
     "ename": "TypeError",
     "evalue": "'str' object does not support item assignment",
     "output_type": "error",
     "traceback": [
      "\u001b[1;31m---------------------------------------------------------------------------\u001b[0m",
      "\u001b[1;31mTypeError\u001b[0m                                 Traceback (most recent call last)",
      "Cell \u001b[1;32mIn[2], line 3\u001b[0m\n\u001b[0;32m      1\u001b[0m s\u001b[38;5;241m=\u001b[39m\u001b[38;5;124m'\u001b[39m\u001b[38;5;124mwelcome\u001b[39m\u001b[38;5;124m'\u001b[39m\n\u001b[0;32m      2\u001b[0m \u001b[38;5;66;03m# I want to replace 'l' with 'L'\u001b[39;00m\n\u001b[1;32m----> 3\u001b[0m s[\u001b[38;5;241m2\u001b[39m]\u001b[38;5;241m=\u001b[39m\u001b[38;5;124m'\u001b[39m\u001b[38;5;124mL\u001b[39m\u001b[38;5;124m'\u001b[39m\n",
      "\u001b[1;31mTypeError\u001b[0m: 'str' object does not support item assignment"
     ]
    }
   ],
   "source": [
    "s='welcome'\n",
    "# I want to replace 'l' with 'L'\n",
    "s[2]='L'"
   ]
  },
  {
   "cell_type": "markdown",
   "id": "13ac1bdb-5e54-431e-b582-c163b65e634a",
   "metadata": {},
   "source": [
    "**note**\n",
    "\n",
    "**strings are immutable**"
   ]
  },
  {
   "cell_type": "code",
   "execution_count": 4,
   "id": "a6e597d2-43d5-4fe0-a215-51da86f3c80c",
   "metadata": {},
   "outputs": [
    {
     "data": {
      "text/plain": [
       "[1, 200, 3, 4]"
      ]
     },
     "execution_count": 4,
     "metadata": {},
     "output_type": "execute_result"
    }
   ],
   "source": [
    "l=[1,2,3,4]    #2=200\n",
    "l[1]=200\n",
    "l"
   ]
  },
  {
   "cell_type": "markdown",
   "id": "b2feb01a-55c8-4301-a903-eec65a353450",
   "metadata": {},
   "source": [
    "**list are mutable**"
   ]
  },
  {
   "cell_type": "code",
   "execution_count": 6,
   "id": "2423d877-4853-410c-82cb-3be85c3cc6b6",
   "metadata": {},
   "outputs": [
    {
     "name": "stdout",
     "output_type": "stream",
     "text": [
      "w\n",
      "e\n",
      "l\n",
      "c\n",
      "o\n",
      "m\n",
      "e\n"
     ]
    }
   ],
   "source": [
    "#Q4) print each letter using for loop range\n",
    "#range belongs to which family\n",
    "# inside bracket we need tp provide a number\n",
    "#how many numbers we need to provide\n",
    "#how to access the letter using number\n",
    "\n",
    "s='welcome'\n",
    "for i in range(7):\n",
    "    print(s[i])\n",
    "\n",
    "    \n",
    "#i=0   s[0]=w\n",
    "#i=1   s[1]=e"
   ]
  },
  {
   "cell_type": "code",
   "execution_count": 7,
   "id": "a1bf08a3-6696-4b50-8ab4-8b9025d47c08",
   "metadata": {},
   "outputs": [
    {
     "name": "stdout",
     "output_type": "stream",
     "text": [
      "w\n",
      "e\n",
      "l\n",
      "c\n",
      "o\n",
      "m\n",
      "e\n",
      " \n",
      "t\n",
      "o\n",
      " \n",
      "n\n",
      "a\n",
      "r\n",
      "e\n",
      "s\n",
      "h\n",
      " \n",
      "i\n",
      "t\n"
     ]
    }
   ],
   "source": [
    "s='welcome to naresh it'\n",
    "n=len(s)\n",
    "for i in range(n):\n",
    "    print(s[i])"
   ]
  },
  {
   "cell_type": "code",
   "execution_count": 1,
   "id": "2ebcb8a5-7d13-4b40-a6c9-056f2d0696ca",
   "metadata": {},
   "outputs": [
    {
     "name": "stdout",
     "output_type": "stream",
     "text": [
      "0 w\n",
      "1 e\n",
      "2 l\n",
      "3 c\n",
      "4 o\n",
      "5 m\n",
      "6 e\n"
     ]
    }
   ],
   "source": [
    "#Q5) wap ask the user ietarte using a string\n",
    "# print the positive index of w is 0\n",
    "#           positive index of e is 1\n",
    "\n",
    "s='welcome'\n",
    "for i in range(len(s)):\n",
    "    print(i,s[i])\n",
    "    "
   ]
  },
  {
   "cell_type": "code",
   "execution_count": null,
   "id": "f831a737-a4c8-4b2d-9ea4-d720ec56836d",
   "metadata": {},
   "outputs": [],
   "source": [
    "str1='hai how are you'"
   ]
  },
  {
   "cell_type": "code",
   "execution_count": null,
   "id": "4f0e6349-c740-4925-a7a4-fc5b4c0ec0e1",
   "metadata": {},
   "outputs": [],
   "source": [
    "-15  -14  -13  -12  -11  -10  -9  -8  -7  -6  -5  -4  -3  -2  -1\n",
    " h     a    i         h    o    w      a   r   e       y    o  u\n",
    " 0     1     2   3     4   5    6   7   8   9   10  11 12   13  14"
   ]
  },
  {
   "cell_type": "code",
   "execution_count": 3,
   "id": "a5e69b79-b1b9-455e-83ae-faf360d8ddbc",
   "metadata": {},
   "outputs": [
    {
     "data": {
      "text/plain": [
       "'ow are you'"
      ]
     },
     "execution_count": 3,
     "metadata": {},
     "output_type": "execute_result"
    }
   ],
   "source": [
    "str1='hai how are you'\n",
    "str1[5:]"
   ]
  },
  {
   "cell_type": "code",
   "execution_count": 4,
   "id": "aa2b8610-bc97-491a-8abb-24cd6a8d99a8",
   "metadata": {},
   "outputs": [
    {
     "data": {
      "text/plain": [
       "' how are '"
      ]
     },
     "execution_count": 4,
     "metadata": {},
     "output_type": "execute_result"
    }
   ],
   "source": [
    "str1='hai how are you'\n",
    "str1[3:12]"
   ]
  },
  {
   "cell_type": "code",
   "execution_count": 5,
   "id": "238597ff-3191-4472-b59c-bb818ad68453",
   "metadata": {},
   "outputs": [
    {
     "data": {
      "text/plain": [
       "'e you'"
      ]
     },
     "execution_count": 5,
     "metadata": {},
     "output_type": "execute_result"
    }
   ],
   "source": [
    "str1='hai how are you'\n",
    "str1[-5:]"
   ]
  },
  {
   "cell_type": "code",
   "execution_count": 6,
   "id": "6e592974-c0e7-4b4d-994e-8094fc9ea604",
   "metadata": {},
   "outputs": [
    {
     "data": {
      "text/plain": [
       "'hai how are y'"
      ]
     },
     "execution_count": 6,
     "metadata": {},
     "output_type": "execute_result"
    }
   ],
   "source": [
    "str1='hai how are you'\n",
    "str1[0:13]"
   ]
  },
  {
   "cell_type": "code",
   "execution_count": 7,
   "id": "71a7302f-b8dd-4668-bd92-a18b430d0620",
   "metadata": {},
   "outputs": [
    {
     "data": {
      "text/plain": [
       "('ow are you', 'ow are you')"
      ]
     },
     "execution_count": 7,
     "metadata": {},
     "output_type": "execute_result"
    }
   ],
   "source": [
    "str1='hai how are you'\n",
    "str1[5:] ,str1[-10:]"
   ]
  },
  {
   "cell_type": "code",
   "execution_count": 8,
   "id": "e4b7aaaf-c051-4c4b-887b-725bd7087889",
   "metadata": {},
   "outputs": [
    {
     "data": {
      "text/plain": [
       "'hai how are yo'"
      ]
     },
     "execution_count": 8,
     "metadata": {},
     "output_type": "execute_result"
    }
   ],
   "source": [
    "str1='hai how are you'\n",
    "str1[0:14]"
   ]
  },
  {
   "cell_type": "code",
   "execution_count": 9,
   "id": "59270f7b-ef3d-4a5d-946a-d930e4f28a08",
   "metadata": {},
   "outputs": [
    {
     "data": {
      "text/plain": [
       "'ai how are y'"
      ]
     },
     "execution_count": 9,
     "metadata": {},
     "output_type": "execute_result"
    }
   ],
   "source": [
    "str1='hai how are you'\n",
    "str1[-14:-2]"
   ]
  },
  {
   "cell_type": "code",
   "execution_count": 10,
   "id": "0251a5ea-ebb1-436d-8d24-fe48121a21e1",
   "metadata": {},
   "outputs": [
    {
     "data": {
      "text/plain": [
       "'e yo'"
      ]
     },
     "execution_count": 10,
     "metadata": {},
     "output_type": "execute_result"
    }
   ],
   "source": [
    "str1='hai how are you'\n",
    "str1[-5:14]"
   ]
  },
  {
   "cell_type": "code",
   "execution_count": 13,
   "id": "e87b45ea-2650-45ca-b16c-5a9d5c641927",
   "metadata": {},
   "outputs": [
    {
     "data": {
      "text/plain": [
       "''"
      ]
     },
     "execution_count": 13,
     "metadata": {},
     "output_type": "execute_result"
    }
   ],
   "source": [
    "str1='hai how are you'\n",
    "str1[5:-14]"
   ]
  },
  {
   "cell_type": "code",
   "execution_count": 14,
   "id": "4b9f5c67-afec-470d-943e-8e4d96ed67a3",
   "metadata": {},
   "outputs": [
    {
     "data": {
      "text/plain": [
       "'how are'"
      ]
     },
     "execution_count": 14,
     "metadata": {},
     "output_type": "execute_result"
    }
   ],
   "source": [
    "str1='hai how are you'\n",
    "str1[4:-4]"
   ]
  },
  {
   "cell_type": "code",
   "execution_count": 15,
   "id": "98c7c5f3-e394-473b-9586-1e48b96748bb",
   "metadata": {},
   "outputs": [
    {
     "data": {
      "text/plain": [
       "'ow are yo'"
      ]
     },
     "execution_count": 15,
     "metadata": {},
     "output_type": "execute_result"
    }
   ],
   "source": [
    "str1='hai how are you'\n",
    "str1[5:14]"
   ]
  },
  {
   "cell_type": "code",
   "execution_count": 16,
   "id": "300cf994-50a1-47e4-a85c-52da5b69cc4b",
   "metadata": {},
   "outputs": [
    {
     "data": {
      "text/plain": [
       "''"
      ]
     },
     "execution_count": 16,
     "metadata": {},
     "output_type": "execute_result"
    }
   ],
   "source": [
    "str1='hai how are you'\n",
    "str1[-5:-14]"
   ]
  },
  {
   "cell_type": "code",
   "execution_count": 17,
   "id": "99a0e007-470f-47ee-bc8a-5960fdff0591",
   "metadata": {},
   "outputs": [
    {
     "data": {
      "text/plain": [
       "''"
      ]
     },
     "execution_count": 17,
     "metadata": {},
     "output_type": "execute_result"
    }
   ],
   "source": [
    "str1='hai how are you'\n",
    "str1[5:-14]"
   ]
  },
  {
   "cell_type": "code",
   "execution_count": 18,
   "id": "fa4a3888-35d6-4c07-837a-22974b41d3a6",
   "metadata": {},
   "outputs": [
    {
     "data": {
      "text/plain": [
       "''"
      ]
     },
     "execution_count": 18,
     "metadata": {},
     "output_type": "execute_result"
    }
   ],
   "source": [
    "str1='hai how are you'\n",
    "str1[-5:-14]"
   ]
  },
  {
   "cell_type": "code",
   "execution_count": 19,
   "id": "df3687bd-82ed-4274-a566-c611ed985f75",
   "metadata": {},
   "outputs": [
    {
     "data": {
      "text/plain": [
       "'ow are you'"
      ]
     },
     "execution_count": 19,
     "metadata": {},
     "output_type": "execute_result"
    }
   ],
   "source": [
    "str1='hai how are you'\n",
    "str1[5:500]"
   ]
  },
  {
   "cell_type": "code",
   "execution_count": 20,
   "id": "a176a259-c3f3-40c8-b58d-5c7d3be1acc2",
   "metadata": {},
   "outputs": [
    {
     "data": {
      "text/plain": [
       "'e you'"
      ]
     },
     "execution_count": 20,
     "metadata": {},
     "output_type": "execute_result"
    }
   ],
   "source": [
    "str1='hai how are you'\n",
    "str1[-5:500]"
   ]
  },
  {
   "cell_type": "code",
   "execution_count": 21,
   "id": "466d46da-ebf3-42c5-8ede-2fa3ce2a7644",
   "metadata": {},
   "outputs": [
    {
     "data": {
      "text/plain": [
       "''"
      ]
     },
     "execution_count": 21,
     "metadata": {},
     "output_type": "execute_result"
    }
   ],
   "source": [
    "str1='hai how are you'\n",
    "str1[-5:-500]"
   ]
  },
  {
   "cell_type": "code",
   "execution_count": 22,
   "id": "210b3c94-af3d-4535-8319-f14c3e1fa44e",
   "metadata": {},
   "outputs": [
    {
     "data": {
      "text/plain": [
       "''"
      ]
     },
     "execution_count": 22,
     "metadata": {},
     "output_type": "execute_result"
    }
   ],
   "source": [
    "str1='hai how are you'\n",
    "str1[5:-500]"
   ]
  },
  {
   "cell_type": "code",
   "execution_count": 23,
   "id": "96be1862-4948-4a47-9068-79ef983cb940",
   "metadata": {},
   "outputs": [
    {
     "data": {
      "text/plain": [
       "'hai how are you'"
      ]
     },
     "execution_count": 23,
     "metadata": {},
     "output_type": "execute_result"
    }
   ],
   "source": [
    "str1='hai how are you'\n",
    "str1[-500:500]"
   ]
  },
  {
   "cell_type": "code",
   "execution_count": 24,
   "id": "b3552129-1c84-4667-92af-33e8122aa3c1",
   "metadata": {},
   "outputs": [
    {
     "data": {
      "text/plain": [
       "'u'"
      ]
     },
     "execution_count": 24,
     "metadata": {},
     "output_type": "execute_result"
    }
   ],
   "source": [
    "str1='hai how are you'\n",
    "str1[-1:500]"
   ]
  },
  {
   "cell_type": "code",
   "execution_count": 25,
   "id": "12832fba-8d61-4936-bca8-8f0c4ca7f2dd",
   "metadata": {},
   "outputs": [
    {
     "data": {
      "text/plain": [
       "''"
      ]
     },
     "execution_count": 25,
     "metadata": {},
     "output_type": "execute_result"
    }
   ],
   "source": [
    "str1='hai how are you'\n",
    "str1[-500:-100]"
   ]
  },
  {
   "cell_type": "code",
   "execution_count": null,
   "id": "dcbb8936-25f4-4e40-bcec-a4c8ab5b262f",
   "metadata": {},
   "outputs": [],
   "source": [
    "str1[start:stop:step]"
   ]
  },
  {
   "cell_type": "code",
   "execution_count": 26,
   "id": "6579ebcc-d135-4c2c-9b1e-30b8c51bb1c2",
   "metadata": {},
   "outputs": [
    {
     "data": {
      "text/plain": [
       "'yeshwant'"
      ]
     },
     "execution_count": 26,
     "metadata": {},
     "output_type": "execute_result"
    }
   ],
   "source": [
    "str2='yeshwanth'\n",
    "str2[-9:8]"
   ]
  },
  {
   "cell_type": "code",
   "execution_count": 27,
   "id": "9e6ccf53-97eb-448a-9ced-fbd339a1ccc1",
   "metadata": {},
   "outputs": [
    {
     "data": {
      "text/plain": [
       "''"
      ]
     },
     "execution_count": 27,
     "metadata": {},
     "output_type": "execute_result"
    }
   ],
   "source": [
    "str2='yeshwanth'\n",
    "str2[7:1]"
   ]
  },
  {
   "cell_type": "code",
   "execution_count": 28,
   "id": "0a65d23c-5986-4a17-ace0-88f49587bec9",
   "metadata": {},
   "outputs": [
    {
     "data": {
      "text/plain": [
       "'ihwaey'"
      ]
     },
     "execution_count": 28,
     "metadata": {},
     "output_type": "execute_result"
    }
   ],
   "source": [
    "str1='hai how are you'\n",
    "str1[2:13:2]"
   ]
  },
  {
   "cell_type": "code",
   "execution_count": 29,
   "id": "f290bf33-ff98-4c9b-a293-d17ca37ef1bf",
   "metadata": {},
   "outputs": [
    {
     "data": {
      "text/plain": [
       "''"
      ]
     },
     "execution_count": 29,
     "metadata": {},
     "output_type": "execute_result"
    }
   ],
   "source": [
    "str1='hai how are you'\n",
    "str1[2:13:-2]"
   ]
  },
  {
   "cell_type": "code",
   "execution_count": 30,
   "id": "e67286e8-264c-42be-93a0-35dda4ee32d2",
   "metadata": {},
   "outputs": [
    {
     "data": {
      "text/plain": [
       "''"
      ]
     },
     "execution_count": 30,
     "metadata": {},
     "output_type": "execute_result"
    }
   ],
   "source": [
    "str1='hai how are you'\n",
    "str1[2:-13:2]"
   ]
  },
  {
   "cell_type": "code",
   "execution_count": 31,
   "id": "6cd70d02-1531-40e7-a5d3-9de014c79190",
   "metadata": {},
   "outputs": [
    {
     "data": {
      "text/plain": [
       "''"
      ]
     },
     "execution_count": 31,
     "metadata": {},
     "output_type": "execute_result"
    }
   ],
   "source": [
    "str1='hai how are you'\n",
    "str1[2:-13:-2]"
   ]
  },
  {
   "cell_type": "code",
   "execution_count": 32,
   "id": "c016dc73-eb4c-4e26-a817-e6ee46dd8674",
   "metadata": {},
   "outputs": [
    {
     "data": {
      "text/plain": [
       "''"
      ]
     },
     "execution_count": 32,
     "metadata": {},
     "output_type": "execute_result"
    }
   ],
   "source": [
    "str1='hai how are you'\n",
    "str1[-2:13:2]"
   ]
  },
  {
   "cell_type": "code",
   "execution_count": 33,
   "id": "0161f8fc-3f1f-4657-bca3-fc9468d6008c",
   "metadata": {},
   "outputs": [
    {
     "data": {
      "text/plain": [
       "''"
      ]
     },
     "execution_count": 33,
     "metadata": {},
     "output_type": "execute_result"
    }
   ],
   "source": [
    "str1='hai how are you'\n",
    "str1[-2:-13:2]"
   ]
  },
  {
   "cell_type": "code",
   "execution_count": 34,
   "id": "4019aa62-9125-4c2c-8ab5-31b6635d2a2e",
   "metadata": {},
   "outputs": [
    {
     "data": {
      "text/plain": [
       "'o r o '"
      ]
     },
     "execution_count": 34,
     "metadata": {},
     "output_type": "execute_result"
    }
   ],
   "source": [
    "str1='hai how are you'\n",
    "str1[-2:-13:-2]"
   ]
  },
  {
   "cell_type": "code",
   "execution_count": 35,
   "id": "30bb76ad-c4b7-4a63-8591-abca27c0c79e",
   "metadata": {},
   "outputs": [
    {
     "data": {
      "text/plain": [
       "''"
      ]
     },
     "execution_count": 35,
     "metadata": {},
     "output_type": "execute_result"
    }
   ],
   "source": [
    "str1='hai how are you'\n",
    "str1[13:2:2]"
   ]
  },
  {
   "cell_type": "code",
   "execution_count": 36,
   "id": "eb3501cc-9df3-45be-9c11-14278e6cdfaf",
   "metadata": {},
   "outputs": [
    {
     "data": {
      "text/plain": [
       "''"
      ]
     },
     "execution_count": 36,
     "metadata": {},
     "output_type": "execute_result"
    }
   ],
   "source": [
    "str1='hai how are you'\n",
    "str1[-13:2:2]"
   ]
  },
  {
   "cell_type": "code",
   "execution_count": 37,
   "id": "b036a0b1-1f02-4b88-923c-b55c9765f66d",
   "metadata": {},
   "outputs": [
    {
     "data": {
      "text/plain": [
       "'ihwaey'"
      ]
     },
     "execution_count": 37,
     "metadata": {},
     "output_type": "execute_result"
    }
   ],
   "source": [
    "str1='hai how are you'\n",
    "str1[-13:-2:2]"
   ]
  },
  {
   "cell_type": "code",
   "execution_count": 38,
   "id": "04b555f9-b314-487d-a929-57fa5a8d3909",
   "metadata": {},
   "outputs": [
    {
     "data": {
      "text/plain": [
       "''"
      ]
     },
     "execution_count": 38,
     "metadata": {},
     "output_type": "execute_result"
    }
   ],
   "source": [
    "str1='hai how are you'\n",
    "str1[-13:-2:-2]"
   ]
  },
  {
   "cell_type": "code",
   "execution_count": 39,
   "id": "f24a945c-c5bc-480c-a9a2-51750d4d64e0",
   "metadata": {},
   "outputs": [
    {
     "data": {
      "text/plain": [
       "''"
      ]
     },
     "execution_count": 39,
     "metadata": {},
     "output_type": "execute_result"
    }
   ],
   "source": [
    "str1='hai how are you'\n",
    "str1[-13:2:-2]"
   ]
  },
  {
   "cell_type": "code",
   "execution_count": 40,
   "id": "8d0a2bfb-0f1e-48f6-b51a-28256cacbbec",
   "metadata": {},
   "outputs": [
    {
     "data": {
      "text/plain": [
       "'hai how are you'"
      ]
     },
     "execution_count": 40,
     "metadata": {},
     "output_type": "execute_result"
    }
   ],
   "source": [
    "str1='hai how are you'\n",
    "str1[:]"
   ]
  },
  {
   "cell_type": "code",
   "execution_count": 41,
   "id": "d200c46c-b472-46e7-87ac-48ceabf62fbe",
   "metadata": {},
   "outputs": [
    {
     "data": {
      "text/plain": [
       "'hai how are you'"
      ]
     },
     "execution_count": 41,
     "metadata": {},
     "output_type": "execute_result"
    }
   ],
   "source": [
    "str1='hai how are you'\n",
    "str1[::]"
   ]
  },
  {
   "cell_type": "code",
   "execution_count": 42,
   "id": "e33e6642-3e0e-4cb3-aeaa-aaf3dd5329b5",
   "metadata": {},
   "outputs": [
    {
     "data": {
      "text/plain": [
       "'uoy era woh iah'"
      ]
     },
     "execution_count": 42,
     "metadata": {},
     "output_type": "execute_result"
    }
   ],
   "source": [
    "str1='hai how are you'\n",
    "str1[::-1]"
   ]
  },
  {
   "cell_type": "code",
   "execution_count": 43,
   "id": "318c9c0e-c19c-49db-a192-5a660bfce6e0",
   "metadata": {},
   "outputs": [
    {
     "data": {
      "text/plain": [
       "'uyeaw'"
      ]
     },
     "execution_count": 43,
     "metadata": {},
     "output_type": "execute_result"
    }
   ],
   "source": [
    "str1='hai how are you'\n",
    "str1[:5:-2]"
   ]
  },
  {
   "cell_type": "code",
   "execution_count": 44,
   "id": "cd2c1545-d5d1-4cda-bc7c-cf71306bcf0a",
   "metadata": {},
   "outputs": [
    {
     "data": {
      "text/plain": [
       "['__add__',\n",
       " '__class__',\n",
       " '__contains__',\n",
       " '__delattr__',\n",
       " '__dir__',\n",
       " '__doc__',\n",
       " '__eq__',\n",
       " '__format__',\n",
       " '__ge__',\n",
       " '__getattribute__',\n",
       " '__getitem__',\n",
       " '__getnewargs__',\n",
       " '__getstate__',\n",
       " '__gt__',\n",
       " '__hash__',\n",
       " '__init__',\n",
       " '__init_subclass__',\n",
       " '__iter__',\n",
       " '__le__',\n",
       " '__len__',\n",
       " '__lt__',\n",
       " '__mod__',\n",
       " '__mul__',\n",
       " '__ne__',\n",
       " '__new__',\n",
       " '__reduce__',\n",
       " '__reduce_ex__',\n",
       " '__repr__',\n",
       " '__rmod__',\n",
       " '__rmul__',\n",
       " '__setattr__',\n",
       " '__sizeof__',\n",
       " '__str__',\n",
       " '__subclasshook__',\n",
       " 'capitalize',\n",
       " 'casefold',\n",
       " 'center',\n",
       " 'count',\n",
       " 'encode',\n",
       " 'endswith',\n",
       " 'expandtabs',\n",
       " 'find',\n",
       " 'format',\n",
       " 'format_map',\n",
       " 'index',\n",
       " 'isalnum',\n",
       " 'isalpha',\n",
       " 'isascii',\n",
       " 'isdecimal',\n",
       " 'isdigit',\n",
       " 'isidentifier',\n",
       " 'islower',\n",
       " 'isnumeric',\n",
       " 'isprintable',\n",
       " 'isspace',\n",
       " 'istitle',\n",
       " 'isupper',\n",
       " 'join',\n",
       " 'ljust',\n",
       " 'lower',\n",
       " 'lstrip',\n",
       " 'maketrans',\n",
       " 'partition',\n",
       " 'removeprefix',\n",
       " 'removesuffix',\n",
       " 'replace',\n",
       " 'rfind',\n",
       " 'rindex',\n",
       " 'rjust',\n",
       " 'rpartition',\n",
       " 'rsplit',\n",
       " 'rstrip',\n",
       " 'split',\n",
       " 'splitlines',\n",
       " 'startswith',\n",
       " 'strip',\n",
       " 'swapcase',\n",
       " 'title',\n",
       " 'translate',\n",
       " 'upper',\n",
       " 'zfill']"
      ]
     },
     "execution_count": 44,
     "metadata": {},
     "output_type": "execute_result"
    }
   ],
   "source": [
    "dir('')"
   ]
  },
  {
   "cell_type": "code",
   "execution_count": 46,
   "id": "99598e4b-642a-4f7c-94ae-c9e84dea53dc",
   "metadata": {},
   "outputs": [
    {
     "data": {
      "text/plain": [
       "'HAI HOW ARE YOU'"
      ]
     },
     "execution_count": 46,
     "metadata": {},
     "output_type": "execute_result"
    }
   ],
   "source": [
    "str1='hai how are you'\n",
    "str1.upper()"
   ]
  },
  {
   "cell_type": "code",
   "execution_count": 47,
   "id": "ff073efb-8add-4712-ac80-ccabd6524d5a",
   "metadata": {},
   "outputs": [
    {
     "data": {
      "text/plain": [
       "'hai how are you'"
      ]
     },
     "execution_count": 47,
     "metadata": {},
     "output_type": "execute_result"
    }
   ],
   "source": [
    "str1='hai how are you'\n",
    "str1.lower()"
   ]
  },
  {
   "cell_type": "code",
   "execution_count": 48,
   "id": "da331f3f-01e5-4cea-a3a7-477966f02698",
   "metadata": {},
   "outputs": [
    {
     "data": {
      "text/plain": [
       "'Hai how are you'"
      ]
     },
     "execution_count": 48,
     "metadata": {},
     "output_type": "execute_result"
    }
   ],
   "source": [
    "str1.capitalize()"
   ]
  },
  {
   "cell_type": "code",
   "execution_count": 49,
   "id": "922b7ccd-e725-441c-b633-d1cec64d7406",
   "metadata": {},
   "outputs": [
    {
     "data": {
      "text/plain": [
       "'hai how are you'"
      ]
     },
     "execution_count": 49,
     "metadata": {},
     "output_type": "execute_result"
    }
   ],
   "source": [
    "str1.casefold()"
   ]
  },
  {
   "cell_type": "code",
   "execution_count": 50,
   "id": "043aca5e-8e1e-44d7-8887-c45030cb68e6",
   "metadata": {},
   "outputs": [
    {
     "data": {
      "text/plain": [
       "'Hai How Are You'"
      ]
     },
     "execution_count": 50,
     "metadata": {},
     "output_type": "execute_result"
    }
   ],
   "source": [
    "str1.title()"
   ]
  },
  {
   "cell_type": "code",
   "execution_count": 52,
   "id": "cab46101-261c-4574-aaa9-b7fe8cda6b83",
   "metadata": {},
   "outputs": [
    {
     "data": {
      "text/plain": [
       "'  hai how are you   '"
      ]
     },
     "execution_count": 52,
     "metadata": {},
     "output_type": "execute_result"
    }
   ],
   "source": [
    "str1.center(20)"
   ]
  },
  {
   "cell_type": "code",
   "execution_count": 53,
   "id": "074c5968-a6fa-49d4-ad4b-04b3582c6977",
   "metadata": {},
   "outputs": [
    {
     "data": {
      "text/plain": [
       "20"
      ]
     },
     "execution_count": 53,
     "metadata": {},
     "output_type": "execute_result"
    }
   ],
   "source": [
    "len(str1.center(20))"
   ]
  },
  {
   "cell_type": "markdown",
   "id": "567106c8-4fc1-4dbb-a41e-1a032a04a194",
   "metadata": {},
   "source": [
    "**count**"
   ]
  },
  {
   "cell_type": "code",
   "execution_count": null,
   "id": "f9933e45-818c-4847-9b77-c149ea212293",
   "metadata": {},
   "outputs": [],
   "source": [
    "str1='hai how are you'\n",
    "#how many 'a' are there\n",
    "count=0\n",
    "for i in str1:         #noramal way\n",
    "    if i=='a':\n",
    "        count=count+1"
   ]
  },
  {
   "cell_type": "code",
   "execution_count": 2,
   "id": "e3677289-2327-4a77-b338-4fad4e22e4b6",
   "metadata": {},
   "outputs": [
    {
     "data": {
      "text/plain": [
       "2"
      ]
     },
     "execution_count": 2,
     "metadata": {},
     "output_type": "execute_result"
    }
   ],
   "source": [
    "str1='hai how are you'\n",
    "str1.count('a')"
   ]
  },
  {
   "cell_type": "code",
   "execution_count": 3,
   "id": "b5c3aedc-e62f-468e-98dc-6dfe1f8be763",
   "metadata": {},
   "outputs": [
    {
     "data": {
      "text/plain": [
       "3"
      ]
     },
     "execution_count": 3,
     "metadata": {},
     "output_type": "execute_result"
    }
   ],
   "source": [
    "str1='hai hai hai'\n",
    "str1.count('a')"
   ]
  },
  {
   "cell_type": "markdown",
   "id": "c498e7a4-772e-4dd2-8b24-fb8a612d20ef",
   "metadata": {},
   "source": [
    "- we want number of 'a' from a specific index\n",
    "\n",
    "- we want number of 'a' between two indexs"
   ]
  },
  {
   "cell_type": "code",
   "execution_count": null,
   "id": "f03c9e54-aca0-421d-86ef-f90c91934483",
   "metadata": {},
   "outputs": [],
   "source": [
    "#h   a   i   h    a     i    h    a     "
   ]
  },
  {
   "cell_type": "code",
   "execution_count": 4,
   "id": "6866ff66-8579-4e64-8560-823b4f9eb514",
   "metadata": {},
   "outputs": [
    {
     "data": {
      "text/plain": [
       "2"
      ]
     },
     "execution_count": 4,
     "metadata": {},
     "output_type": "execute_result"
    }
   ],
   "source": [
    "str1='hai hai hai'\n",
    "str1.count('a')\n",
    "str1.count('a',5)"
   ]
  },
  {
   "cell_type": "code",
   "execution_count": 5,
   "id": "407bada0-7d75-4fb7-9997-30f0ec734bef",
   "metadata": {},
   "outputs": [
    {
     "data": {
      "text/plain": [
       "2"
      ]
     },
     "execution_count": 5,
     "metadata": {},
     "output_type": "execute_result"
    }
   ],
   "source": [
    "str1='hai hai hai'\n",
    "str1.count('a')\n",
    "str1.count('a',3)"
   ]
  },
  {
   "cell_type": "code",
   "execution_count": 7,
   "id": "0d17e3ac-8015-4b1c-a77f-f1289379997c",
   "metadata": {},
   "outputs": [
    {
     "data": {
      "text/plain": [
       "2"
      ]
     },
     "execution_count": 7,
     "metadata": {},
     "output_type": "execute_result"
    }
   ],
   "source": [
    "str1='hai hai hai'\n",
    "str1.count('a')\n",
    "str1.count('a',3,10)"
   ]
  },
  {
   "cell_type": "code",
   "execution_count": null,
   "id": "b4339043-142e-4ec7-935d-ac05808b2cc0",
   "metadata": {},
   "outputs": [],
   "source": [
    "#reversed\n"
   ]
  },
  {
   "cell_type": "code",
   "execution_count": 8,
   "id": "df95f202-0043-4538-9d85-54616ed3486f",
   "metadata": {},
   "outputs": [
    {
     "data": {
      "text/plain": [
       "3"
      ]
     },
     "execution_count": 8,
     "metadata": {},
     "output_type": "execute_result"
    }
   ],
   "source": [
    "str1='ola ola ola'\n",
    "str1.count('ola')"
   ]
  },
  {
   "cell_type": "markdown",
   "id": "c7a6c2db-e7c7-40a6-a821-b1f33e7a7135",
   "metadata": {},
   "source": [
    "**Window Method**"
   ]
  },
  {
   "cell_type": "code",
   "execution_count": null,
   "id": "2adcc347-f44d-4b4e-b6f3-e0f9038995b3",
   "metadata": {},
   "outputs": [],
   "source": [
    "str1[i:i+3]\n",
    "i=0    str1[0:3]    ===> ola\n",
    "i=1    str1[1:4]    ===> la"
   ]
  },
  {
   "cell_type": "code",
   "execution_count": 9,
   "id": "dd3a38fc-403f-467c-aa87-ee70c86a0bf7",
   "metadata": {},
   "outputs": [
    {
     "name": "stdout",
     "output_type": "stream",
     "text": [
      "the number of ola: 3\n"
     ]
    }
   ],
   "source": [
    "str1='ola ola ola'\n",
    "count=0\n",
    "for i in range(len(str1)):\n",
    "    if str1[i:i+3]=='ola':\n",
    "        count=count+1\n",
    "print(\"the number of ola:\",count)"
   ]
  },
  {
   "cell_type": "code",
   "execution_count": 10,
   "id": "49c9504c-56b3-47f6-b9a8-27da691c43a7",
   "metadata": {},
   "outputs": [
    {
     "data": {
      "text/plain": [
       "3"
      ]
     },
     "execution_count": 10,
     "metadata": {},
     "output_type": "execute_result"
    }
   ],
   "source": [
    "str1='ola ola ola'\n",
    "str1.count('ola')"
   ]
  },
  {
   "cell_type": "code",
   "execution_count": 11,
   "id": "8a8a207b-4a86-4a96-b779-a30ef4778d6a",
   "metadata": {},
   "outputs": [
    {
     "data": {
      "text/plain": [
       "1"
      ]
     },
     "execution_count": 11,
     "metadata": {},
     "output_type": "execute_result"
    }
   ],
   "source": [
    "str1='ola ola ola'\n",
    "str1.count('ola ola')"
   ]
  },
  {
   "cell_type": "code",
   "execution_count": 12,
   "id": "64abb32e-03be-4306-b83c-bbae4e9a2da0",
   "metadata": {},
   "outputs": [
    {
     "data": {
      "text/plain": [
       "1"
      ]
     },
     "execution_count": 12,
     "metadata": {},
     "output_type": "execute_result"
    }
   ],
   "source": [
    "str1='ola ola ola'\n",
    "str1.count('ola ola ola')"
   ]
  },
  {
   "cell_type": "code",
   "execution_count": 13,
   "id": "690de297-130e-4137-a654-e0d18aaa4a6a",
   "metadata": {},
   "outputs": [
    {
     "data": {
      "text/plain": [
       "1"
      ]
     },
     "execution_count": 13,
     "metadata": {},
     "output_type": "execute_result"
    }
   ],
   "source": [
    "str1='ola ola ola'\n",
    "str1.count(str1)"
   ]
  },
  {
   "cell_type": "code",
   "execution_count": 14,
   "id": "ddfc9f51-12d0-4541-80c8-ee669d6f89ab",
   "metadata": {},
   "outputs": [
    {
     "data": {
      "text/plain": [
       "0"
      ]
     },
     "execution_count": 14,
     "metadata": {},
     "output_type": "execute_result"
    }
   ],
   "source": [
    "str1.count('z')"
   ]
  },
  {
   "cell_type": "markdown",
   "id": "bbd00f32-088b-46ba-841f-93304087d0c5",
   "metadata": {},
   "source": [
    "**Replace**"
   ]
  },
  {
   "cell_type": "code",
   "execution_count": null,
   "id": "439957e4-c140-4711-8871-7bd220f823be",
   "metadata": {},
   "outputs": [],
   "source": [
    "str1='welcome'\n",
    "#I want to replace 'l' with 'L'\n",
    "# we know that strings are immutable\n",
    "# we can not use index operations also\n",
    "#slice and concatenation\n",
    "#divide welcom: we        come\n",
    "#s1=we\n",
    "#s2=come\n",
    "#s1+'L'+s2\n",
    "\n",
    "\n"
   ]
  },
  {
   "cell_type": "code",
   "execution_count": 15,
   "id": "09200201-ae10-4741-a2ee-c8ac576a29c8",
   "metadata": {},
   "outputs": [
    {
     "data": {
      "text/plain": [
       "'weLcome'"
      ]
     },
     "execution_count": 15,
     "metadata": {},
     "output_type": "execute_result"
    }
   ],
   "source": [
    "str1='welcome'\n",
    "s1=str1[0:2]\n",
    "s2=str1[3:]\n",
    "s1+'L'+s2"
   ]
  },
  {
   "cell_type": "code",
   "execution_count": 16,
   "id": "f95c0ae1-19d9-40b0-9ccd-b57f6f3d0ff0",
   "metadata": {},
   "outputs": [
    {
     "data": {
      "text/plain": [
       "'L'"
      ]
     },
     "execution_count": 16,
     "metadata": {},
     "output_type": "execute_result"
    }
   ],
   "source": [
    "chr(ord('l')-32)"
   ]
  },
  {
   "cell_type": "code",
   "execution_count": 17,
   "id": "dbf2848d-1af7-4802-b0a8-25b002b00868",
   "metadata": {},
   "outputs": [
    {
     "data": {
      "text/plain": [
       "'weLcome'"
      ]
     },
     "execution_count": 17,
     "metadata": {},
     "output_type": "execute_result"
    }
   ],
   "source": [
    "str1='welcome'\n",
    "str1.replace('l','L')"
   ]
  },
  {
   "cell_type": "code",
   "execution_count": 20,
   "id": "ef7ba062-fa73-4d82-bcd5-3ada817a1331",
   "metadata": {},
   "outputs": [
    {
     "data": {
      "text/plain": [
       "'weLLcome'"
      ]
     },
     "execution_count": 20,
     "metadata": {},
     "output_type": "execute_result"
    }
   ],
   "source": [
    "str1='wellcome'\n",
    "str1.replace('l','L')"
   ]
  },
  {
   "cell_type": "code",
   "execution_count": 21,
   "id": "819b7a81-6a91-47fa-8ffb-c90a6ddaa13c",
   "metadata": {},
   "outputs": [
    {
     "data": {
      "text/plain": [
       "'weLllcome'"
      ]
     },
     "execution_count": 21,
     "metadata": {},
     "output_type": "execute_result"
    }
   ],
   "source": [
    "str1='welllcome'\n",
    "str1.replace('l','L',1)"
   ]
  },
  {
   "cell_type": "code",
   "execution_count": 22,
   "id": "481797ce-053c-40a1-8b78-eadf3340f181",
   "metadata": {},
   "outputs": [
    {
     "data": {
      "text/plain": [
       "'weLLlcome'"
      ]
     },
     "execution_count": 22,
     "metadata": {},
     "output_type": "execute_result"
    }
   ],
   "source": [
    "str1='welllcome'\n",
    "str1.replace('l','L',2)"
   ]
  },
  {
   "cell_type": "code",
   "execution_count": 25,
   "id": "c4a854e6-0a6c-415f-9f6b-535bd5c2fcdf",
   "metadata": {},
   "outputs": [
    {
     "data": {
      "text/plain": [
       "'weesta$t'"
      ]
     },
     "execution_count": 25,
     "metadata": {},
     "output_type": "execute_result"
    }
   ],
   "source": [
    "#str1='restart'\n",
    "#i/p='resta$t'\n",
    "str1='restart'\n",
    "str1[:1]\n",
    "s2=str1[1:]\n",
    "s3=s2.replace('r','$')\n",
    "s1+s3"
   ]
  },
  {
   "cell_type": "code",
   "execution_count": 1,
   "id": "15d98f5a-a3a1-4298-a59e-4081c571152d",
   "metadata": {},
   "outputs": [
    {
     "data": {
      "text/plain": [
       "'resta$t'"
      ]
     },
     "execution_count": 1,
     "metadata": {},
     "output_type": "execute_result"
    }
   ],
   "source": [
    "#str1='restart'\n",
    "#i/p='resta$t'\n",
    "str1='restart'\n",
    "s1=str1[:1]\n",
    "s2=str1[1:]\n",
    "s3=s2.replace('r','$')\n",
    "s1+s3"
   ]
  },
  {
   "cell_type": "markdown",
   "id": "14bf895f-ed51-4528-9292-2c77a2ddadc6",
   "metadata": {},
   "source": [
    "**index-fimd**"
   ]
  },
  {
   "cell_type": "code",
   "execution_count": null,
   "id": "6edd040a-2c29-4431-9ef3-90f2ffd5bf86",
   "metadata": {},
   "outputs": [],
   "source": [
    "- upper\n",
    "\n",
    "- lower\n",
    "\n",
    "- casefold\n",
    "\n",
    "- title\n",
    "\n",
    "- capitalize\n",
    "\n",
    "- count\n",
    "\n",
    "- replace\n",
    "\n",
    "- index-find\n",
    "\n",
    "- split\n",
    "\n",
    "- strip\n",
    "\n",
    "- startswith"
   ]
  },
  {
   "cell_type": "code",
   "execution_count": 2,
   "id": "1c5d2b93-ade8-40a1-a900-41213486d6f2",
   "metadata": {},
   "outputs": [
    {
     "data": {
      "text/plain": [
       "['__add__',\n",
       " '__class__',\n",
       " '__contains__',\n",
       " '__delattr__',\n",
       " '__dir__',\n",
       " '__doc__',\n",
       " '__eq__',\n",
       " '__format__',\n",
       " '__ge__',\n",
       " '__getattribute__',\n",
       " '__getitem__',\n",
       " '__getnewargs__',\n",
       " '__getstate__',\n",
       " '__gt__',\n",
       " '__hash__',\n",
       " '__init__',\n",
       " '__init_subclass__',\n",
       " '__iter__',\n",
       " '__le__',\n",
       " '__len__',\n",
       " '__lt__',\n",
       " '__mod__',\n",
       " '__mul__',\n",
       " '__ne__',\n",
       " '__new__',\n",
       " '__reduce__',\n",
       " '__reduce_ex__',\n",
       " '__repr__',\n",
       " '__rmod__',\n",
       " '__rmul__',\n",
       " '__setattr__',\n",
       " '__sizeof__',\n",
       " '__str__',\n",
       " '__subclasshook__',\n",
       " 'capitalize',\n",
       " 'casefold',\n",
       " 'center',\n",
       " 'count',\n",
       " 'encode',\n",
       " 'endswith',\n",
       " 'expandtabs',\n",
       " 'find',\n",
       " 'format',\n",
       " 'format_map',\n",
       " 'index',\n",
       " 'isalnum',\n",
       " 'isalpha',\n",
       " 'isascii',\n",
       " 'isdecimal',\n",
       " 'isdigit',\n",
       " 'isidentifier',\n",
       " 'islower',\n",
       " 'isnumeric',\n",
       " 'isprintable',\n",
       " 'isspace',\n",
       " 'istitle',\n",
       " 'isupper',\n",
       " 'join',\n",
       " 'ljust',\n",
       " 'lower',\n",
       " 'lstrip',\n",
       " 'maketrans',\n",
       " 'partition',\n",
       " 'removeprefix',\n",
       " 'removesuffix',\n",
       " 'replace',\n",
       " 'rfind',\n",
       " 'rindex',\n",
       " 'rjust',\n",
       " 'rpartition',\n",
       " 'rsplit',\n",
       " 'rstrip',\n",
       " 'split',\n",
       " 'splitlines',\n",
       " 'startswith',\n",
       " 'strip',\n",
       " 'swapcase',\n",
       " 'title',\n",
       " 'translate',\n",
       " 'upper',\n",
       " 'zfill']"
      ]
     },
     "execution_count": 2,
     "metadata": {},
     "output_type": "execute_result"
    }
   ],
   "source": [
    "dir('')"
   ]
  },
  {
   "cell_type": "code",
   "execution_count": null,
   "id": "f47fc334-b99a-49cb-9eaa-2c0aa44ed8f9",
   "metadata": {},
   "outputs": [],
   "source": [
    "'isalnum',\n",
    " 'isalpha',\n",
    " 'isascii',\n",
    " 'isdecimal',\n",
    " 'isdigit',\n",
    " 'isidentifier',\n",
    " 'islower',\n",
    " 'isnumeric',\n",
    " 'isprintable',\n",
    " 'isspace',\n",
    " 'istitle',\n",
    " 'isupper',"
   ]
  },
  {
   "cell_type": "code",
   "execution_count": 3,
   "id": "fedefc8a-da7f-47e3-8ca1-935e64e36fa3",
   "metadata": {},
   "outputs": [
    {
     "data": {
      "text/plain": [
       "True"
      ]
     },
     "execution_count": 3,
     "metadata": {},
     "output_type": "execute_result"
    }
   ],
   "source": [
    "str1='Hello'\n",
    "str1.isalnum()"
   ]
  },
  {
   "cell_type": "code",
   "execution_count": 4,
   "id": "34c88b4b-73f5-4d7f-a305-2920e0add907",
   "metadata": {},
   "outputs": [
    {
     "data": {
      "text/plain": [
       "False"
      ]
     },
     "execution_count": 4,
     "metadata": {},
     "output_type": "execute_result"
    }
   ],
   "source": [
    "str1='Hello'\n",
    "str1.isupper()"
   ]
  },
  {
   "cell_type": "code",
   "execution_count": 5,
   "id": "0eeb32b4-b64e-4bfd-9051-bfbb6dad9c8d",
   "metadata": {},
   "outputs": [
    {
     "data": {
      "text/plain": [
       "True"
      ]
     },
     "execution_count": 5,
     "metadata": {},
     "output_type": "execute_result"
    }
   ],
   "source": [
    "str1='HELLO'\n",
    "str1.isupper()"
   ]
  },
  {
   "cell_type": "code",
   "execution_count": 6,
   "id": "016f3876-7669-432e-85aa-74ad4467e646",
   "metadata": {},
   "outputs": [
    {
     "data": {
      "text/plain": [
       "False"
      ]
     },
     "execution_count": 6,
     "metadata": {},
     "output_type": "execute_result"
    }
   ],
   "source": [
    "str1='hello'\n",
    "str1.istitle()"
   ]
  },
  {
   "cell_type": "markdown",
   "id": "07c53d3f-e0f7-459a-914e-52a0be95295c",
   "metadata": {},
   "source": [
    "**INDEX**"
   ]
  },
  {
   "cell_type": "markdown",
   "id": "e9d21d54-a970-4fc6-a9b6-090824802870",
   "metadata": {},
   "source": [
    "- index says that it will give the index of any letter in a given string\n",
    "\n",
    "- we already seen about count: count will give how many letters are there in a string.\n",
    "\n",
    "    - at what index you want to count.\n",
    "\n",
    "    - between indexes also we can count the letters.\n",
    "\n",
    "- index meaning it will provide the index\n",
    "\n",
    "- imagine that there same letters repeated\n",
    "\n",
    "- how can we find the next index."
   ]
  },
  {
   "cell_type": "code",
   "execution_count": 7,
   "id": "444ac121-f4ad-443b-b74f-e6b6894f4797",
   "metadata": {},
   "outputs": [
    {
     "data": {
      "text/plain": [
       "1"
      ]
     },
     "execution_count": 7,
     "metadata": {},
     "output_type": "execute_result"
    }
   ],
   "source": [
    "# h   a   i       h    a   i       h     a      i\n",
    "# 0   1   2   3   4    5   6   7   8     9      10\n",
    "\n",
    "str1= 'hai hai hai'\n",
    "str1.index('a')\n",
    "# return the lowest index in S where substring sub is found"
   ]
  },
  {
   "cell_type": "code",
   "execution_count": 8,
   "id": "0942acac-b6ed-4644-b849-4fc8911429fc",
   "metadata": {},
   "outputs": [
    {
     "data": {
      "text/plain": [
       "5"
      ]
     },
     "execution_count": 8,
     "metadata": {},
     "output_type": "execute_result"
    }
   ],
   "source": [
    "# I want know next  'a' index after third index\n",
    "str1= 'hai hai hai'\n",
    "str1.index('a',3)"
   ]
  },
  {
   "cell_type": "code",
   "execution_count": 9,
   "id": "2df4507c-9cf9-431b-b42d-670f464f97ea",
   "metadata": {},
   "outputs": [
    {
     "data": {
      "text/plain": [
       "5"
      ]
     },
     "execution_count": 9,
     "metadata": {},
     "output_type": "execute_result"
    }
   ],
   "source": [
    "# I want know next  'a' index between third and 7th index\n",
    "str1= 'hai hai hai'\n",
    "str1.index('a',3,7)"
   ]
  },
  {
   "cell_type": "code",
   "execution_count": null,
   "id": "1a7be19a-5775-46c9-862b-4c936bc491a6",
   "metadata": {},
   "outputs": [],
   "source": [
    "# I always return a lowest a index value\n",
    "str1= 'hai hai hai'       #among all the indexes the lowest index is 1\n",
    "str1.index('a')\n",
    "\n",
    "\n",
    "str1= 'hai hai hai'       # after the 3rd index the lowest index of 'a' is '5'\n",
    "str1.index('a',3)\n",
    "\n",
    "\n",
    "\n",
    "str1= 'hai hai hai'      # between the 3rd and 7th indexes the lowest index of 'a' is '5' only\n",
    "str1.index('a',3,7)"
   ]
  },
  {
   "cell_type": "code",
   "execution_count": 10,
   "id": "2dc62c91-730d-4de4-954f-63512b2fb0ef",
   "metadata": {},
   "outputs": [
    {
     "data": {
      "text/plain": [
       "5"
      ]
     },
     "execution_count": 10,
     "metadata": {},
     "output_type": "execute_result"
    }
   ],
   "source": [
    "# -11    -10     -9     -8     -7      -6     -5       -4      -3     -2     -1\n",
    "\n",
    "# h       a       i             h      a       i                h      a       i\n",
    "\n",
    "\n",
    "# 0       1       2      3      4      5       6        7       8      9       10\n",
    "\n",
    "\n",
    "str1= 'hai hai hai'       #among all the indexes the lowest index is 1\n",
    "str1.index('a',-9,-4)\n"
   ]
  },
  {
   "cell_type": "code",
   "execution_count": 11,
   "id": "ac675753-96a8-45ea-b24e-71cea18b8523",
   "metadata": {},
   "outputs": [
    {
     "ename": "ValueError",
     "evalue": "substring not found",
     "output_type": "error",
     "traceback": [
      "\u001b[1;31m---------------------------------------------------------------------------\u001b[0m",
      "\u001b[1;31mValueError\u001b[0m                                Traceback (most recent call last)",
      "Cell \u001b[1;32mIn[11], line 2\u001b[0m\n\u001b[0;32m      1\u001b[0m str1\u001b[38;5;241m=\u001b[39m \u001b[38;5;124m'\u001b[39m\u001b[38;5;124mhai hai hai\u001b[39m\u001b[38;5;124m'\u001b[39m       \u001b[38;5;66;03m#among all the indexes the lowest index is 1\u001b[39;00m\n\u001b[1;32m----> 2\u001b[0m str1\u001b[38;5;241m.\u001b[39mindex(\u001b[38;5;124m'\u001b[39m\u001b[38;5;124ma\u001b[39m\u001b[38;5;124m'\u001b[39m,\u001b[38;5;241m-\u001b[39m\u001b[38;5;241m9\u001b[39m,\u001b[38;5;241m-\u001b[39m\u001b[38;5;241m6\u001b[39m)\n",
      "\u001b[1;31mValueError\u001b[0m: substring not found"
     ]
    }
   ],
   "source": [
    "str1= 'hai hai hai'       #among all the indexes the lowest index is 1\n",
    "str1.index('a',-9,-6)\n"
   ]
  },
  {
   "cell_type": "code",
   "execution_count": 12,
   "id": "0dbf048b-e583-4346-a5f0-067137c2f664",
   "metadata": {},
   "outputs": [
    {
     "name": "stdout",
     "output_type": "stream",
     "text": [
      "3\n",
      "2\n",
      "1\n"
     ]
    }
   ],
   "source": [
    "# -11    -10     -9     -8     -7      -6     -5       -4      -3     -2     -1\n",
    "\n",
    "# h       a       i             h      a       i                h      a       i\n",
    "\n",
    "\n",
    "# 0       1       2      3      4      5       6        7       8      9       10\n",
    "\n",
    "str1= 'hai hai hai' \n",
    "print(str1.count('a'))\n",
    "print(str1.count('a',3))\n",
    "print(str1.count('a',3,7))"
   ]
  },
  {
   "cell_type": "code",
   "execution_count": 13,
   "id": "a7b20836-642e-4c29-ad55-a4a308f69592",
   "metadata": {},
   "outputs": [
    {
     "name": "stdout",
     "output_type": "stream",
     "text": [
      "1\n",
      "5\n",
      "5\n"
     ]
    }
   ],
   "source": [
    "# -11    -10     -9     -8     -7      -6     -5       -4      -3     -2     -1\n",
    "\n",
    "# h       a       i             h      a       i                h      a       i\n",
    "\n",
    "\n",
    "# 0       1       2      3      4      5       6        7       8      9       10\n",
    "\n",
    "str1= 'hai hai hai' \n",
    "print(str1.index('a'))\n",
    "print(str1.index('a',3))\n",
    "print(str1.index('a',3,7))"
   ]
  },
  {
   "cell_type": "code",
   "execution_count": 15,
   "id": "781ca780-d3e2-4c83-b6ce-41db4b4c947b",
   "metadata": {},
   "outputs": [
    {
     "name": "stdout",
     "output_type": "stream",
     "text": [
      "1\n",
      "5\n",
      "9\n"
     ]
    }
   ],
   "source": [
    "# I want know the all indexes of 'a'\n",
    "str1='hai hai hai'\n",
    "for i in range(len(str1)):\n",
    "    if str1[i]=='a':\n",
    "        print(i)"
   ]
  },
  {
   "cell_type": "code",
   "execution_count": 16,
   "id": "217eefd9-bbcd-46e8-b2ab-71c7969eb23c",
   "metadata": {},
   "outputs": [
    {
     "name": "stdout",
     "output_type": "stream",
     "text": [
      "1\n",
      "5\n",
      "9\n"
     ]
    }
   ],
   "source": [
    "str1='hai hai hai'\n",
    "for i in range(len(str1)):\n",
    "    if str1[i]=='a':\n",
    "        print(i)"
   ]
  },
  {
   "cell_type": "code",
   "execution_count": 18,
   "id": "54bc91ad-744c-4391-8293-1b2aa4e6a2be",
   "metadata": {},
   "outputs": [
    {
     "name": "stdout",
     "output_type": "stream",
     "text": [
      "1\n",
      "5\n",
      "9\n",
      "13\n"
     ]
    }
   ],
   "source": [
    "str1='hai hai hai hai'\n",
    "i1=str1.index('a')\n",
    "print(i1)\n",
    "i2=str1.index('a',i1+1)\n",
    "print(i2)\n",
    "i3=str1.index('a',i2+1)\n",
    "print(i3)\n",
    "i4=str1.index('a',i3+1)\n",
    "print(i4)"
   ]
  },
  {
   "cell_type": "markdown",
   "id": "0d5a99f8-9b2e-433c-bcff-2120d2f8f7d0",
   "metadata": {},
   "source": [
    "**FIND**"
   ]
  },
  {
   "cell_type": "code",
   "execution_count": 19,
   "id": "1a61049e-00de-4e4d-9cbb-6305940dd49d",
   "metadata": {},
   "outputs": [
    {
     "name": "stdout",
     "output_type": "stream",
     "text": [
      "1\n",
      "5\n",
      "9\n",
      "13\n",
      "-1\n"
     ]
    }
   ],
   "source": [
    "str1='hai hai hai hai'\n",
    "i1=str1.find('a')\n",
    "print(i1)\n",
    "i2=str1.find('a',i1+1)\n",
    "print(i2)\n",
    "i3=str1.find('a',i2+1)\n",
    "print(i3)\n",
    "i4=str1.find('a',i3+1)\n",
    "print(i4)\n",
    "i5=str1.find('a',i4+1)\n",
    "print(i5)"
   ]
  },
  {
   "cell_type": "code",
   "execution_count": null,
   "id": "44ae1916-f919-4a26-b6df-5417fdbab336",
   "metadata": {},
   "outputs": [],
   "source": [
    "str1.index() # Raises ValueError when the substring is not found.\n",
    "str1.find() # Return -1 on failure.\n",
    "str1='hai hai hai'\n",
    "str1.count('z')\n",
    "0\n",
    "str1='hai hai hai'\n",
    "str1.replace('z','Z')\n",
    "'hai hai hai'\n",
    "If substring not found\n",
    "Count method will give zero\n",
    "Replace method will give original string\n",
    "Index will give sub string not found error\n",
    "Find will give -1\n",
    "str1='omkar.nallagoni@cognizant.com'\n",
    "# Fisrt name= omkar\n",
    "# second name= nallagoni\n",
    "# company name= cognizant\n",
    "str2='virat.kohli@rcb.com'\n",
    "str3='rohit.sharma@mi.com'\n",
    "str4='a.b@c.com'\n",
    "# Idea : find the triggers\n",
    "# For first name .\n",
    "# second name . and @\n",
    "# Compnay name @ and second .\n",
    "# i1= first dot index\n",
    "# i2= @ index\n",
    "# i3= second index\n",
    "str1='omkar.nallagoni@cognizant.com'\n",
    "i1=str1.index('.')\n",
    "i2=str1.index('@')\n",
    "i3=str1.index('.',i1+1)\n",
    "first_name=str1[:i1]\n",
    "second_name=str1[i1+1:i2]\n",
    "cname=str1[i2+1:i3]\n",
    "first_name,second_name,cname\n",
    "('omkar', 'nallagoni', 'cognizant')"
   ]
  },
  {
   "cell_type": "code",
   "execution_count": null,
   "id": "f65f9ff9-d8b5-4aa3-8fc9-c7d3c02def65",
   "metadata": {},
   "outputs": [],
   "source": [
    "str1.index()    # Raises ValueError when the substring is not found.\n",
    "str1.find()    # Return -1 on failure."
   ]
  },
  {
   "cell_type": "code",
   "execution_count": 20,
   "id": "8ba9ca71-9e53-4ff1-beea-96f1829d023c",
   "metadata": {},
   "outputs": [
    {
     "data": {
      "text/plain": [
       "0"
      ]
     },
     "execution_count": 20,
     "metadata": {},
     "output_type": "execute_result"
    }
   ],
   "source": [
    "str1='hai hai hai'\n",
    "str1.count('z')"
   ]
  },
  {
   "cell_type": "code",
   "execution_count": 21,
   "id": "60c094a7-907e-4fab-bc51-05b83fe149b4",
   "metadata": {},
   "outputs": [
    {
     "data": {
      "text/plain": [
       "'hai hai hai'"
      ]
     },
     "execution_count": 21,
     "metadata": {},
     "output_type": "execute_result"
    }
   ],
   "source": [
    "str1='hai hai hai'\n",
    "str1.replace('z','Z')"
   ]
  },
  {
   "cell_type": "code",
   "execution_count": null,
   "id": "bbb25833-8a12-421c-9c57-3eb3db1e4f32",
   "metadata": {},
   "outputs": [],
   "source": [
    "- If substring not found\n",
    "\n",
    "- Count method will give zero\n",
    "\n",
    "- Replace method will give original string\n",
    "\n",
    "- Index will give sub string not found error\n",
    "\n",
    "- Find will give -1"
   ]
  },
  {
   "cell_type": "code",
   "execution_count": null,
   "id": "a2208858-dbc4-4e9d-a5c6-79e01b760cdf",
   "metadata": {},
   "outputs": [],
   "source": [
    "str1='omkar.nallagoni@cognizant.com'\n",
    "# Fisrt name= omkar\n",
    "# second name= nallagoni\n",
    "# company name= cognizant\n",
    "str2='virat.kohli@rcb.com'\n",
    "str3='rohit.sharma@mi.com'\n",
    "str4='a.b@c.com'\n",
    "# Idea : find the triggers\n",
    "# For first name .\n",
    "# second name . and @\n",
    "# Compnay name @ and second .\n",
    "# i1= first dot index\n",
    "# i2= @ index\n",
    "# i3= second index"
   ]
  },
  {
   "cell_type": "code",
   "execution_count": 22,
   "id": "bab35ecf-e72a-46e5-92e8-191d23d3026d",
   "metadata": {},
   "outputs": [
    {
     "data": {
      "text/plain": [
       "('omkar', 'nallagoni', 'cognizant')"
      ]
     },
     "execution_count": 22,
     "metadata": {},
     "output_type": "execute_result"
    }
   ],
   "source": [
    "str1='omkar.nallagoni@cognizant.com'\n",
    "i1=str1.index('.')\n",
    "i2=str1.index('@')\n",
    "i3=str1.index('.',i1+1)\n",
    "first_name=str1[:i1]\n",
    "second_name=str1[i1+1:i2]\n",
    "cname=str1[i2+1:i3]\n",
    "first_name,second_name,cname"
   ]
  },
  {
   "cell_type": "markdown",
   "id": "b0a6a947-683a-46af-ab28-73a1e6c837aa",
   "metadata": {},
   "source": [
    "- count\n",
    "\n",
    "- replace\n",
    "\n",
    "- find\n",
    "\n",
    "- index\n",
    "\n",
    "- Upper/lower/casefold\n",
    "\n",
    "- Capitalize/Title\n",
    "\n",
    "- Center\n",
    "\n",
    "- Count\n",
    "\n",
    "- Replace\n",
    "\n",
    "- index/find\n",
    "\n",
    "- start with is\n",
    "\n"
   ]
  },
  {
   "cell_type": "code",
   "execution_count": null,
   "id": "a4bfe306-9d36-45e9-aa43-9a4f91a8bb40",
   "metadata": {},
   "outputs": [],
   "source": [
    "- split\n",
    "\n",
    "- strip/lstrip/rstrip\n",
    "\n",
    "- startswith/endswith"
   ]
  }
 ],
 "metadata": {
  "kernelspec": {
   "display_name": "Python 3 (ipykernel)",
   "language": "python",
   "name": "python3"
  },
  "language_info": {
   "codemirror_mode": {
    "name": "ipython",
    "version": 3
   },
   "file_extension": ".py",
   "mimetype": "text/x-python",
   "name": "python",
   "nbconvert_exporter": "python",
   "pygments_lexer": "ipython3",
   "version": "3.11.7"
  }
 },
 "nbformat": 4,
 "nbformat_minor": 5
}
