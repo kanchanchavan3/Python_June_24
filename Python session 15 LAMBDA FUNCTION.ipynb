{
 "cells": [
  {
   "cell_type": "markdown",
   "id": "6e10bbab-464c-45a4-ba34-450aa0e49e80",
   "metadata": {},
   "source": [
    "**Lambda Function**"
   ]
  },
  {
   "cell_type": "markdown",
   "id": "cb55110f-b5db-4cbb-a0fa-7ffbe8f500a9",
   "metadata": {},
   "source": [
    "- lambda function reprents function concept\n",
    "\n",
    "- but we can write in single line \n",
    "\n",
    "- like list comprehension, lambda function similar only\n",
    "\n",
    "- it will decrease time complexity\n",
    "\n",
    "- always remember if we use for loop for many condition using multiple line ,time"
   ]
  },
  {
   "cell_type": "code",
   "execution_count": null,
   "id": "e0327b82-57a1-460d-a852-435d19c0ccfe",
   "metadata": {},
   "outputs": [],
   "source": [
    "**it will use a keyword lambda**\n",
    "\n",
    "#lambda <arguments>: <expression>\n"
   ]
  },
  {
   "cell_type": "code",
   "execution_count": 1,
   "id": "475cae23-3c4f-4a43-901c-26a91129c097",
   "metadata": {},
   "outputs": [
    {
     "data": {
      "text/plain": [
       "20"
      ]
     },
     "execution_count": 1,
     "metadata": {},
     "output_type": "execute_result"
    }
   ],
   "source": [
    "def summ(n):\n",
    "    return(n+10)\n",
    "summ(10)"
   ]
  },
  {
   "cell_type": "markdown",
   "id": "0e9db967-892e-48cf-aecc-f71967a0d6e5",
   "metadata": {},
   "source": [
    "$pattern-1$\n",
    "\n",
    "**function with only one argument**\n",
    "\n",
    "- function name\n",
    "\n",
    "- argument name\n",
    "\n",
    "- return output"
   ]
  },
  {
   "cell_type": "code",
   "execution_count": 4,
   "id": "22d2b31b-dcd4-4b00-bd01-b2ad724598a5",
   "metadata": {},
   "outputs": [
    {
     "data": {
      "text/plain": [
       "110"
      ]
     },
     "execution_count": 4,
     "metadata": {},
     "output_type": "execute_result"
    }
   ],
   "source": [
    "#syntax <function name>=lambda <argument name>: <return output>\n",
    "\n",
    "summ=lambda n: n+10\n",
    "summ(100)"
   ]
  },
  {
   "cell_type": "code",
   "execution_count": 6,
   "id": "0c9387a2-1c0d-4027-83ff-75b39b404a33",
   "metadata": {},
   "outputs": [
    {
     "data": {
      "text/plain": [
       "1000"
      ]
     },
     "execution_count": 6,
     "metadata": {},
     "output_type": "execute_result"
    }
   ],
   "source": [
    "def cube(n):\n",
    "    return(n**3)\n",
    "cube(10)"
   ]
  },
  {
   "cell_type": "code",
   "execution_count": 7,
   "id": "69e9a90e-8eb8-412e-a2f5-a3fd7fd840c9",
   "metadata": {},
   "outputs": [
    {
     "data": {
      "text/plain": [
       "1000"
      ]
     },
     "execution_count": 7,
     "metadata": {},
     "output_type": "execute_result"
    }
   ],
   "source": [
    "cube=lambda n: n**3\n",
    "cube(10)"
   ]
  },
  {
   "cell_type": "markdown",
   "id": "969d47e8-fe53-424a-b013-1117c0ea1a64",
   "metadata": {},
   "source": [
    "$Pattern-2$\n",
    "\n",
    "**Function with two arguments**"
   ]
  },
  {
   "cell_type": "code",
   "execution_count": 8,
   "id": "31d40a63-52b4-4be9-b3a0-87138241c1b2",
   "metadata": {},
   "outputs": [
    {
     "data": {
      "text/plain": [
       "100"
      ]
     },
     "execution_count": 8,
     "metadata": {},
     "output_type": "execute_result"
    }
   ],
   "source": [
    "#syntax is <function name>=lambda <argument1>,<argument2>: <return output>\n",
    "def add(a,b):\n",
    "    return(a+b)\n",
    "add(50,50)"
   ]
  },
  {
   "cell_type": "code",
   "execution_count": 9,
   "id": "e58e55c8-c674-4f8a-9c47-d9f50e8adb30",
   "metadata": {},
   "outputs": [
    {
     "data": {
      "text/plain": [
       "30"
      ]
     },
     "execution_count": 9,
     "metadata": {},
     "output_type": "execute_result"
    }
   ],
   "source": [
    "add=lambda a,b: a+b\n",
    "add(10,20)"
   ]
  },
  {
   "cell_type": "code",
   "execution_count": 10,
   "id": "13b3ba68-1b70-4728-9629-7b49ebc2f731",
   "metadata": {},
   "outputs": [
    {
     "data": {
      "text/plain": [
       "130"
      ]
     },
     "execution_count": 10,
     "metadata": {},
     "output_type": "execute_result"
    }
   ],
   "source": [
    "add=lambda n1,n2: n1+n2\n",
    "add(60,70)"
   ]
  },
  {
   "cell_type": "code",
   "execution_count": 11,
   "id": "2fadfeed-33cf-4cc0-990e-22e8ac4f05c3",
   "metadata": {},
   "outputs": [
    {
     "data": {
      "text/plain": [
       "150"
      ]
     },
     "execution_count": 11,
     "metadata": {},
     "output_type": "execute_result"
    }
   ],
   "source": [
    "add=lambda n1,n2,n3: n1+n2+n3\n",
    "add(60,50,40)"
   ]
  },
  {
   "cell_type": "code",
   "execution_count": 12,
   "id": "bcf79074-e75c-413a-b9fa-9daaa381a0e2",
   "metadata": {},
   "outputs": [
    {
     "data": {
      "text/plain": [
       "20.0"
      ]
     },
     "execution_count": 12,
     "metadata": {},
     "output_type": "execute_result"
    }
   ],
   "source": [
    "average=lambda a,b,c: round((a+b+c)/3,2)\n",
    "average(10,20,30)"
   ]
  },
  {
   "cell_type": "markdown",
   "id": "16deccca-7de2-40b8-a458-3eed26fc93f9",
   "metadata": {},
   "source": [
    "$Pattern-3$\n",
    "\n",
    "**Default arguments**"
   ]
  },
  {
   "cell_type": "code",
   "execution_count": 13,
   "id": "4c51e210-3483-46f5-b428-d08dd9a2043c",
   "metadata": {},
   "outputs": [
    {
     "data": {
      "text/plain": [
       "26.67"
      ]
     },
     "execution_count": 13,
     "metadata": {},
     "output_type": "execute_result"
    }
   ],
   "source": [
    "average=lambda a,b,c=50: round((a+b+c)/3,2)\n",
    "average(10,20)"
   ]
  },
  {
   "cell_type": "markdown",
   "id": "7bf744f0-88aa-4ab2-ab78-69ab97a0346d",
   "metadata": {},
   "source": [
    "$Pattren-4$\n",
    "\n",
    "**If - Else**"
   ]
  },
  {
   "cell_type": "code",
   "execution_count": 14,
   "id": "5d5ccc3d-02ea-40b4-91dc-fa45280c44d3",
   "metadata": {},
   "outputs": [
    {
     "data": {
      "text/plain": [
       "20"
      ]
     },
     "execution_count": 14,
     "metadata": {},
     "output_type": "execute_result"
    }
   ],
   "source": [
    "def max(a,b):\n",
    "    if a>b:\n",
    "        return(a)\n",
    "    else:\n",
    "        return(b)\n",
    "max(10,20)"
   ]
  },
  {
   "cell_type": "code",
   "execution_count": 21,
   "id": "8ebebdcb-059e-4d0b-8a4e-91bf0033d404",
   "metadata": {},
   "outputs": [
    {
     "data": {
      "text/plain": [
       "20"
      ]
     },
     "execution_count": 21,
     "metadata": {},
     "output_type": "execute_result"
    }
   ],
   "source": [
    "max=lambda a,b: a if a>b  else b \n",
    "max(10,20)"
   ]
  },
  {
   "cell_type": "code",
   "execution_count": 18,
   "id": "2e635296-a023-4553-bf1d-196a31e53af7",
   "metadata": {},
   "outputs": [
    {
     "data": {
      "text/plain": [
       "30"
      ]
     },
     "execution_count": 18,
     "metadata": {},
     "output_type": "execute_result"
    }
   ],
   "source": [
    "max=lambda a,b: a if a>b else b\n",
    "max(30,20)"
   ]
  },
  {
   "cell_type": "markdown",
   "id": "9b06eaf0-7205-438f-9f28-b32a31affc7c",
   "metadata": {},
   "source": [
    "$Pattern-5$\n",
    "\n",
    "**Using List**"
   ]
  },
  {
   "cell_type": "code",
   "execution_count": 23,
   "id": "a73421f3-2ada-48c8-a512-fb4bbdc605e0",
   "metadata": {},
   "outputs": [
    {
     "data": {
      "text/plain": [
       "(<function __main__.<lambda>(i)>, ['hyd', 'chennai', 'mumbai'])"
      ]
     },
     "execution_count": 23,
     "metadata": {},
     "output_type": "execute_result"
    }
   ],
   "source": [
    "l=['hyd','chennai','mumbai']\n",
    "lambda i: i.capitalize(),l"
   ]
  },
  {
   "cell_type": "code",
   "execution_count": 24,
   "id": "f892afde-0d8d-4ee0-8516-0353c3323d49",
   "metadata": {},
   "outputs": [
    {
     "data": {
      "text/plain": [
       "<map at 0x2d80a5e1450>"
      ]
     },
     "execution_count": 24,
     "metadata": {},
     "output_type": "execute_result"
    }
   ],
   "source": [
    "l=['hyd','chennai','mumbai']\n",
    "map(lambda i: i.capitalize(),l)"
   ]
  },
  {
   "cell_type": "code",
   "execution_count": 25,
   "id": "39d12903-98f3-43f6-a54c-8cea6b13faf3",
   "metadata": {},
   "outputs": [
    {
     "data": {
      "text/plain": [
       "['Hyd', 'Chennai', 'Mumbai']"
      ]
     },
     "execution_count": 25,
     "metadata": {},
     "output_type": "execute_result"
    }
   ],
   "source": [
    "l=['hyd','chennai','mumbai']\n",
    "list(map(lambda i: i.capitalize(),l))"
   ]
  },
  {
   "cell_type": "code",
   "execution_count": 26,
   "id": "da459032-c56d-4925-8f51-c1c2e70b976e",
   "metadata": {},
   "outputs": [
    {
     "data": {
      "text/plain": [
       "('Hyd', 'Chennai', 'Mumbai')"
      ]
     },
     "execution_count": 26,
     "metadata": {},
     "output_type": "execute_result"
    }
   ],
   "source": [
    "l=['hyd','chennai','mumbai']\n",
    "tuple(map(lambda i: i.capitalize(),l))"
   ]
  },
  {
   "cell_type": "code",
   "execution_count": null,
   "id": "80fabb10-8960-4573-94cf-a456c3db16b5",
   "metadata": {},
   "outputs": [],
   "source": [
    "- case-1: Function call with arguments\n",
    "\n",
    "        - lambda arguments : Expression\n",
    "\n",
    "        - lambda variables : return output\n",
    "\n",
    "- case -2: function call with two arguments\n",
    "\n",
    "        - lambda atg1,arg2 : Expression\n",
    "\n",
    "        - lambda var1,var2 : return output\n",
    "\n",
    "- case-3 : function call with default arguments\n",
    "\n",
    "        - lambda arg1,arg2=500 : expression\n",
    "\n",
    "        - lambda "
   ]
  },
  {
   "cell_type": "code",
   "execution_count": 5,
   "id": "8c63de44-b5a0-4c56-a59a-05bd7db769e2",
   "metadata": {},
   "outputs": [
    {
     "name": "stdout",
     "output_type": "stream",
     "text": [
      "HYD\n",
      "CHENNAI\n",
      "MUMBAI\n"
     ]
    }
   ],
   "source": [
    "l=['hyd','chennai','mumbai']\n",
    "for i in l:\n",
    "    print(i.upper())\n"
   ]
  },
  {
   "cell_type": "code",
   "execution_count": 6,
   "id": "8ea58d10-981c-42a2-a09c-c2b251137fdf",
   "metadata": {},
   "outputs": [
    {
     "data": {
      "text/plain": [
       "['HYD', 'CHENNAI', 'MUMBAI']"
      ]
     },
     "execution_count": 6,
     "metadata": {},
     "output_type": "execute_result"
    }
   ],
   "source": [
    "list(map(lambda i:i.upper(),l))"
   ]
  },
  {
   "cell_type": "code",
   "execution_count": 9,
   "id": "6d7f7504-d242-4dab-b819-7a5cd553a409",
   "metadata": {},
   "outputs": [
    {
     "data": {
      "text/plain": [
       "[False, True, True]"
      ]
     },
     "execution_count": 9,
     "metadata": {},
     "output_type": "execute_result"
    }
   ],
   "source": [
    "l=['hyd','che#nnai','mum#bai']\n",
    "list(map(lambda i : '#' in i,l))\n"
   ]
  },
  {
   "cell_type": "code",
   "execution_count": 10,
   "id": "8152f09f-1715-4a62-bb00-337eef7300c6",
   "metadata": {},
   "outputs": [
    {
     "data": {
      "text/plain": [
       "[2, 6]"
      ]
     },
     "execution_count": 10,
     "metadata": {},
     "output_type": "execute_result"
    }
   ],
   "source": [
    "l=[1,3,2,7,6]\n",
    "list(filter(lambda i: i%2==0 ,l))"
   ]
  },
  {
   "cell_type": "code",
   "execution_count": 11,
   "id": "bebc88ab-42df-4214-8e52-03617f321d02",
   "metadata": {},
   "outputs": [
    {
     "data": {
      "text/plain": [
       "15"
      ]
     },
     "execution_count": 11,
     "metadata": {},
     "output_type": "execute_result"
    }
   ],
   "source": [
    "l1=[1,2,3,4,5]\n",
    "sum(l1)"
   ]
  },
  {
   "cell_type": "code",
   "execution_count": 13,
   "id": "296d5729-16b8-48e3-992f-262a2f5a1785",
   "metadata": {},
   "outputs": [
    {
     "name": "stdout",
     "output_type": "stream",
     "text": [
      "15\n"
     ]
    }
   ],
   "source": [
    "summ=0\n",
    "l1=[1,2,3,4,5]\n",
    "for i in l1:\n",
    "    summ=summ+i\n",
    "print(summ)"
   ]
  },
  {
   "cell_type": "code",
   "execution_count": 19,
   "id": "52c4b18a-3bf6-4733-a7ab-784d31d478af",
   "metadata": {},
   "outputs": [
    {
     "data": {
      "text/plain": [
       "<filter at 0x1dd39253d60>"
      ]
     },
     "execution_count": 19,
     "metadata": {},
     "output_type": "execute_result"
    }
   ],
   "source": [
    "l1=[1,2,3,4,5]\n",
    "\n",
    "filter(lambda summ,i: summ+i,l1)"
   ]
  },
  {
   "cell_type": "code",
   "execution_count": 23,
   "id": "1454cb4f-b126-4de5-8a34-0439ce68b42d",
   "metadata": {},
   "outputs": [
    {
     "data": {
      "text/plain": [
       "15"
      ]
     },
     "execution_count": 23,
     "metadata": {},
     "output_type": "execute_result"
    }
   ],
   "source": [
    "import functools\n",
    "l1=[1,2,3,4,5]\n",
    "functools.reduce(lambda summ,i: summ+i,l1,0)"
   ]
  },
  {
   "cell_type": "code",
   "execution_count": 24,
   "id": "476ab2bf-21f9-4022-9a0b-299f1ae715ca",
   "metadata": {},
   "outputs": [
    {
     "data": {
      "text/plain": [
       "15"
      ]
     },
     "execution_count": 24,
     "metadata": {},
     "output_type": "execute_result"
    }
   ],
   "source": [
    "from functools import reduce\n",
    "l1=[1,2,3,4,5]\n",
    "reduce(lambda summ,i: summ+i,l1,0)\n"
   ]
  },
  {
   "cell_type": "code",
   "execution_count": null,
   "id": "5f4520fc-0fb9-4a9d-b89b-1cc6b9a7fa9c",
   "metadata": {},
   "outputs": [],
   "source": []
  }
 ],
 "metadata": {
  "kernelspec": {
   "display_name": "Python 3 (ipykernel)",
   "language": "python",
   "name": "python3"
  },
  "language_info": {
   "codemirror_mode": {
    "name": "ipython",
    "version": 3
   },
   "file_extension": ".py",
   "mimetype": "text/x-python",
   "name": "python",
   "nbconvert_exporter": "python",
   "pygments_lexer": "ipython3",
   "version": "3.11.7"
  }
 },
 "nbformat": 4,
 "nbformat_minor": 5
}
